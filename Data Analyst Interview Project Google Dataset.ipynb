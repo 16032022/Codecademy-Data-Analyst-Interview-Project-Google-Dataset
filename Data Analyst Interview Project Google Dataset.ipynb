{
 "cells": [
  {
   "cell_type": "markdown",
   "id": "504c2dd5",
   "metadata": {},
   "source": [
    "# Data scientist: Analytics Specialist "
   ]
  },
  {
   "cell_type": "markdown",
   "id": "a4fa83ad",
   "metadata": {},
   "source": [
    "## Data Scientist Interview Preparation: Visualisation, Communication, and Experimental Design: Google Play Store Apps project"
   ]
  },
  {
   "cell_type": "markdown",
   "id": "09dc9963",
   "metadata": {},
   "source": [
    "### Objectives"
   ]
  },
  {
   "cell_type": "markdown",
   "id": "8ec8a957",
   "metadata": {},
   "source": [
    "To analyze Web data of a Play Store apps database in order to drive app-making businesses and get insights for developers to improve the Android market."
   ]
  },
  {
   "cell_type": "markdown",
   "id": "73b62493",
   "metadata": {},
   "source": [
    "### Introduction"
   ]
  },
  {
   "cell_type": "markdown",
   "id": "7d2aa0f7",
   "metadata": {},
   "source": [
    "An app is defined as a self-contained software package that allows users to perform specific tasks on a mobile. Apps are pre-installed on the Android device or can be downloaded on the device via a proprietary app store such as the Google Play Store. \n",
    "The Google Play Store app allow to get apps, games, and digital content in Android devices.  Google Play Services is one of the most important apps on any Android phone because it does allow to get different categories and types apps in Android devices. Further, [Google Play Store](https://www.kaggle.com/datasets/lava18/google-play-store-apps?resource=download) uses sophisticated modern techniques to allow to each app to be characterised by its specific characteristics such as category, rating. size etc. Therefore, the Play Store apps data has enormous potential to drive app-making businesses to success. The objective of this analysis is to get an insight on Web data of a Play Store apps database in order to drive app-making businesses and get insights for developers to improve the Android market."
   ]
  },
  {
   "cell_type": "markdown",
   "id": "e791d64f",
   "metadata": {},
   "source": [
    "### Methods¶"
   ]
  },
  {
   "cell_type": "markdown",
   "id": "f157875f",
   "metadata": {},
   "source": [
    "Two datasets (googleplaystore.csv, googleplaystore_user_reviews) have been provided by the Codecademy platform and available through the [Kaggle website](https://www.kaggle.com/datasets/lava18/google-play-store-apps?resource=download). Before to perform the data visualisation, inspection of the two dataframes have been performed in order to get a view of the descriptive statistics and verify the presence or not of possible mistakes and/or missing values in the variables. After that the two dataframes have been merged based on the same variable (App) descriptive statistics (like mean, median, range, correlations) have been calculated and univariate and multivariate explorations have been performed using the Exploratory Data Analysis (EDA) approach that does employ a variety of techniques (mostly graphical) to maximize insight into the dataset, extract important variables and determine optimal factor settings. Data analysis was performed using Python 3 software. The Python script is reported below."
   ]
  },
  {
   "cell_type": "markdown",
   "id": "d254da63",
   "metadata": {},
   "source": [
    "### Results"
   ]
  },
  {
   "cell_type": "markdown",
   "id": "e601b7a9",
   "metadata": {},
   "source": [
    "After clean up mistakes due to wrong spelling in the name of some variables (genres, app etc..) and after made some assumptions about missing values, the total number of observations in the final database has been changed from 122662 to 45049 observations, the \"updated\" number of Apps is 543 in 33 categories and 46 genres. Besides, the apps are available by 715 users/reviewers as free and paid and their rating on the apps is characterised by 3 categories rating. \n",
    "Four categories of apps(game, family, dating and health&fitness) have the highest percentages compared to the others categories. apps (33.21%, 9.55%, 6.23% and 5.81%, respectively). On the other hand, the category comics does seem to have the lowest percentages (0.02%). Among the 46 different genres apps, four different genres apps(Action, Casual, Dating, Sports and Health&Fitness) have the highest percentages compared to the others genres (10.43%, 8.13%, 6.23%, 6.22%, and 5.81%, respectively). The lowest percentages of observations seem to be related to the Comics and Adventure genres (0.02%, 0.002%, respectively). The apps are mainly free than paid (98.3%, 1.7%, respectively). With regard the paid apps category, the max cost of an app seem to be of 29.99$. Sentiment analysis is a text mining technique that deals with analysing and classifying subjective opinions.Polarity and intensity are two components used in sentiment analysis. Polarity indicates whether the sentiment is negative, neutral, or positive, while intensity indicates the relative strength of the feeling. The reviews have mainly a positive sentiment for the related apps (62.52%), followed by a negative sentiment (26.28%), showing up a highest percentages for the rating of the app for rating 4, followed by rating 5 and rating 3 (82.35%, 16.30% and 1.37%, respectively).\n",
    "After investigation of the possible correlation among the three numerical variables, the results do confirm a correlation between Sentiment Polatity and Sentiment Subjectivity (0.31). Besides, it does not seem that the opinion of the reviewer on the app is related to the price of app."
   ]
  },
  {
   "cell_type": "markdown",
   "id": "2569ec44",
   "metadata": {},
   "source": [
    "### Conclusions"
   ]
  },
  {
   "cell_type": "markdown",
   "id": "6b8677cc",
   "metadata": {},
   "source": [
    "The results have been confirmed that Play Store apps data has enormous potential to drive app-making businesses to success. Besides, a strategy of marketing of  Google Play Store seem to be the free apps available that are also those mainly choosen by the reviewers in this analysis. Sentiment analysis seem to be an useful strategy for analysing and classifying subjective opinions and further desicion-making in the Android marketing. However, some limitations (see exclusion of age group variable) and further investigation (for instance in getting more insight into the current version of the app, or the last updated of the app) is required in order to get available data related to different range of age of the users and range of years of updated apps that could pointed out also difference in time trends between years. Further research could be adress to overcome the limitations and results of this analysis."
   ]
  },
  {
   "cell_type": "markdown",
   "id": "d6c36a40",
   "metadata": {},
   "source": [
    "### Python script used in the data analysis"
   ]
  },
  {
   "cell_type": "markdown",
   "id": "4a729441",
   "metadata": {},
   "source": [
    "- DATA ACQUISITION"
   ]
  },
  {
   "cell_type": "markdown",
   "id": "2336cb16",
   "metadata": {},
   "source": [
    "Before to upload the two csv files, the Python libraries used in the further analysis have been imported."
   ]
  },
  {
   "cell_type": "code",
   "execution_count": 1,
   "id": "3065606f",
   "metadata": {},
   "outputs": [],
   "source": [
    "#Upload the Python libraries and tools for the visualizations:\n",
    "import csv\n",
    "import pandas as pd\n",
    "import numpy as np\n",
    "import seaborn as sns\n",
    "import statsmodels\n",
    "import matplotlib.pyplot as plt\n",
    "import math"
   ]
  },
  {
   "cell_type": "markdown",
   "id": "b8f46338",
   "metadata": {},
   "source": [
    "Load the google play store data data (CSV file) from the Kaggle platform [REF1]"
   ]
  },
  {
   "cell_type": "code",
   "execution_count": 2,
   "id": "cb87da58",
   "metadata": {},
   "outputs": [],
   "source": [
    "#googleplaystore.csv > The csv file holds each app (row) that has different values for catergory, rating, size etc for GooglePlayStore\n",
    "dataset = pd.read_csv('googleplaystore.csv')\n",
    "dataset_obs = pd.DataFrame(dataset) #Make dataframe "
   ]
  },
  {
   "cell_type": "markdown",
   "id": "e9c200fe",
   "metadata": {},
   "source": [
    "Load the googleplaystore_user_reviews data data (CSV file) from the Kaggle platform [REF1]"
   ]
  },
  {
   "cell_type": "code",
   "execution_count": 3,
   "id": "3306ab7c",
   "metadata": {},
   "outputs": [],
   "source": [
    "#googleplaystore_user_reviews dataframe > The csv file holds each app (row) that has different values of user reviews for for GooglePlayStore\n",
    "dataset_ur = pd.read_csv('googleplaystore_user_reviews.csv')\n",
    "dataset_obs_ur = pd.DataFrame(dataset_ur) #Make dataframe "
   ]
  },
  {
   "cell_type": "markdown",
   "id": "257d6772",
   "metadata": {},
   "source": [
    "- INSPECT, CLEAN, VALIDATE AND MERGE THE DATAFRAMES\n",
    "\n",
    "Inspection of each dataframe has been performed in order to get a view of the descriptive statistics (such as view of their enclosed variables, their size and shape etc.). Then the two dataframes have been merged based on their common variables and further an inspection has been performed to see the presence or not of possible mistakes and/or missing values in the variables."
   ]
  },
  {
   "cell_type": "code",
   "execution_count": 4,
   "id": "1c3fba31",
   "metadata": {},
   "outputs": [
    {
     "name": "stdout",
     "output_type": "stream",
     "text": [
      "                                                 App        Category  Rating  \\\n",
      "0     Photo Editor & Candy Camera & Grid & ScrapBook  ART_AND_DESIGN     4.1   \n",
      "1                                Coloring book moana  ART_AND_DESIGN     3.9   \n",
      "2  U Launcher Lite – FREE Live Cool Themes, Hide ...  ART_AND_DESIGN     4.7   \n",
      "3                              Sketch - Draw & Paint  ART_AND_DESIGN     4.5   \n",
      "4              Pixel Draw - Number Art Coloring Book  ART_AND_DESIGN     4.3   \n",
      "\n",
      "  Reviews  Size     Installs  Type Price Content Rating  \\\n",
      "0     159   19M      10,000+  Free     0       Everyone   \n",
      "1     967   14M     500,000+  Free     0       Everyone   \n",
      "2   87510  8.7M   5,000,000+  Free     0       Everyone   \n",
      "3  215644   25M  50,000,000+  Free     0           Teen   \n",
      "4     967  2.8M     100,000+  Free     0       Everyone   \n",
      "\n",
      "                      Genres      Last Updated         Current Ver  \\\n",
      "0               Art & Design   January 7, 2018               1.0.0   \n",
      "1  Art & Design;Pretend Play  January 15, 2018               2.0.0   \n",
      "2               Art & Design    August 1, 2018               1.2.4   \n",
      "3               Art & Design      June 8, 2018  Varies with device   \n",
      "4    Art & Design;Creativity     June 20, 2018                 1.1   \n",
      "\n",
      "    Android Ver  \n",
      "0  4.0.3 and up  \n",
      "1  4.0.3 and up  \n",
      "2  4.0.3 and up  \n",
      "3    4.2 and up  \n",
      "4    4.4 and up  \n",
      "['App' 'Category' 'Rating' 'Reviews' 'Size' 'Installs' 'Type' 'Price'\n",
      " 'Content Rating' 'Genres' 'Last Updated' 'Current Ver' 'Android Ver']\n",
      "<class 'pandas.core.frame.DataFrame'>\n",
      "RangeIndex: 10841 entries, 0 to 10840\n",
      "Data columns (total 13 columns):\n",
      " #   Column          Non-Null Count  Dtype  \n",
      "---  ------          --------------  -----  \n",
      " 0   App             10841 non-null  object \n",
      " 1   Category        10841 non-null  object \n",
      " 2   Rating          9367 non-null   float64\n",
      " 3   Reviews         10841 non-null  object \n",
      " 4   Size            10841 non-null  object \n",
      " 5   Installs        10841 non-null  object \n",
      " 6   Type            10840 non-null  object \n",
      " 7   Price           10841 non-null  object \n",
      " 8   Content Rating  10840 non-null  object \n",
      " 9   Genres          10841 non-null  object \n",
      " 10  Last Updated    10841 non-null  object \n",
      " 11  Current Ver     10833 non-null  object \n",
      " 12  Android Ver     10838 non-null  object \n",
      "dtypes: float64(1), object(12)\n",
      "memory usage: 1.1+ MB\n"
     ]
    },
    {
     "data": {
      "text/html": [
       "<div>\n",
       "<style scoped>\n",
       "    .dataframe tbody tr th:only-of-type {\n",
       "        vertical-align: middle;\n",
       "    }\n",
       "\n",
       "    .dataframe tbody tr th {\n",
       "        vertical-align: top;\n",
       "    }\n",
       "\n",
       "    .dataframe thead th {\n",
       "        text-align: right;\n",
       "    }\n",
       "</style>\n",
       "<table border=\"1\" class=\"dataframe\">\n",
       "  <thead>\n",
       "    <tr style=\"text-align: right;\">\n",
       "      <th></th>\n",
       "      <th>Rating</th>\n",
       "    </tr>\n",
       "  </thead>\n",
       "  <tbody>\n",
       "    <tr>\n",
       "      <th>count</th>\n",
       "      <td>9367.000000</td>\n",
       "    </tr>\n",
       "    <tr>\n",
       "      <th>mean</th>\n",
       "      <td>4.193338</td>\n",
       "    </tr>\n",
       "    <tr>\n",
       "      <th>std</th>\n",
       "      <td>0.537431</td>\n",
       "    </tr>\n",
       "    <tr>\n",
       "      <th>min</th>\n",
       "      <td>1.000000</td>\n",
       "    </tr>\n",
       "    <tr>\n",
       "      <th>25%</th>\n",
       "      <td>4.000000</td>\n",
       "    </tr>\n",
       "    <tr>\n",
       "      <th>50%</th>\n",
       "      <td>4.300000</td>\n",
       "    </tr>\n",
       "    <tr>\n",
       "      <th>75%</th>\n",
       "      <td>4.500000</td>\n",
       "    </tr>\n",
       "    <tr>\n",
       "      <th>max</th>\n",
       "      <td>19.000000</td>\n",
       "    </tr>\n",
       "  </tbody>\n",
       "</table>\n",
       "</div>"
      ],
      "text/plain": [
       "            Rating\n",
       "count  9367.000000\n",
       "mean      4.193338\n",
       "std       0.537431\n",
       "min       1.000000\n",
       "25%       4.000000\n",
       "50%       4.300000\n",
       "75%       4.500000\n",
       "max      19.000000"
      ]
     },
     "execution_count": 4,
     "metadata": {},
     "output_type": "execute_result"
    }
   ],
   "source": [
    "#googleplaystore dataframe \n",
    "print(dataset_obs.head(5)) # first items of the dataset\n",
    "print(dataset_obs.columns.values) #View  of the columns (varialbes) of the dataset\n",
    "dataset_obs.info()     #concise summary of the dataframe like the index dtype and columns, non-null values and memory usage \n",
    "dataset_obs.describe() #Simple statistics of the numnerical variables"
   ]
  },
  {
   "cell_type": "code",
   "execution_count": 5,
   "id": "a3bd5a64",
   "metadata": {},
   "outputs": [
    {
     "name": "stdout",
     "output_type": "stream",
     "text": [
      "140933\n",
      "(10841, 13)\n"
     ]
    }
   ],
   "source": [
    "size = dataset_obs.size # dataframe.size\n",
    "print(size)\n",
    "shape =dataset_obs.shape  # dataframe.shape\n",
    "print(shape)"
   ]
  },
  {
   "cell_type": "markdown",
   "id": "42069a57",
   "metadata": {},
   "source": [
    "**Explanation output** The above outputs show that the googleplaystore dataframe does contain 10841 observations and its size (140933) is equivalent to its rows x columns (10841x13). Besides, the dataframe is characterised by 13 variables: 12 categorical variables ('App' 'Category'  'Reviews' 'Size' 'Installs' 'Type' 'Price', 'Content Rating' 'Genres' 'Last Updated' 'Current Ver' 'Android Ver')\n",
    " and 1 numerical variable (Rating).Based on [REF1], a short description of the each variable is provided by the detailed data dictionary enclosed in the dataframe and it is reported below."
   ]
  },
  {
   "cell_type": "code",
   "execution_count": 6,
   "id": "0d6b85b7",
   "metadata": {},
   "outputs": [],
   "source": [
    "#Rename columns\n",
    "dataset_obs = dataset_obs.rename(\n",
    "    columns={'Content Rating':'Rating_content', \n",
    "             'Last Updated':'Last_updated', \n",
    "             'Current Ver':'Current_Version',\n",
    "             'Android Ver': 'Android_Version',\n",
    "    }\n",
    ")"
   ]
  },
  {
   "cell_type": "code",
   "execution_count": 7,
   "id": "4da10829",
   "metadata": {},
   "outputs": [
    {
     "name": "stdout",
     "output_type": "stream",
     "text": [
      "['App' 'Category' 'Rating' 'Reviews' 'Size' 'Installs' 'Type' 'Price'\n",
      " 'Rating_content' 'Genres' 'Last_updated' 'Current_Version'\n",
      " 'Android_Version']\n"
     ]
    }
   ],
   "source": [
    "print(dataset_obs.columns.values) #View  of the renamed columns (varialbes) of the dataset"
   ]
  },
  {
   "cell_type": "code",
   "execution_count": 8,
   "id": "9d7058d8",
   "metadata": {},
   "outputs": [
    {
     "name": "stdout",
     "output_type": "stream",
     "text": [
      "{'App': 'App name', 'Category': 'Category the app belongs to', 'Rating': 'Overall user rating of the app', 'Reviews': 'Number of user reviews for the app', 'Size': 'Size of the app', 'Installs': 'Number of user downloads/installs for the app', 'Type': 'Paid or Free', 'Price': 'Price of the app', 'Rating_content': 'Age group the app is targeted at - Children / Mature 21+ / Adult', 'Genres': 'An app can belong to multiple genres (apart from its main category)', 'Last_Updated': 'Date when the app was last updated on Play Store', 'Current_Version': 'Current version of the app available on Play Store', 'Android_Version': 'Min required Android version'}\n",
      "<class 'dict'>\n"
     ]
    }
   ],
   "source": [
    "#googleplaystoredictionary\n",
    "dataframe_dictionary = {'App': 'App name', 'Category': 'Category the app belongs to', 'Rating':'Overall user rating of the app',\n",
    "                 'Reviews': 'Number of user reviews for the app', 'Size':'Size of the app',\n",
    "                 'Installs': 'Number of user downloads/installs for the app', 'Type': 'Paid or Free', 'Price': 'Price of the app',\n",
    "                 'Rating_content':'Age group the app is targeted at - Children / Mature 21+ / Adult', 'Genres': 'An app can belong to multiple genres (apart from its main category)',\n",
    "                    'Last_Updated': 'Date when the app was last updated on Play Store', \n",
    "                     'Current_Version':  'Current version of the app available on Play Store',\n",
    "                      'Android_Version': 'Min required Android version'} \n",
    "\n",
    "print(dataframe_dictionary)\n",
    "print(type(dataframe_dictionary)) #check data type"
   ]
  },
  {
   "cell_type": "code",
   "execution_count": 9,
   "id": "7f82ddac",
   "metadata": {},
   "outputs": [
    {
     "name": "stdout",
     "output_type": "stream",
     "text": [
      "                     App                                  Translated_Review  \\\n",
      "0  10 Best Foods for You  I like eat delicious food. That's I'm cooking ...   \n",
      "1  10 Best Foods for You    This help eating healthy exercise regular basis   \n",
      "2  10 Best Foods for You                                                NaN   \n",
      "3  10 Best Foods for You         Works great especially going grocery store   \n",
      "4  10 Best Foods for You                                       Best idea us   \n",
      "\n",
      "  Sentiment  Sentiment_Polarity  Sentiment_Subjectivity  \n",
      "0  Positive                1.00                0.533333  \n",
      "1  Positive                0.25                0.288462  \n",
      "2       NaN                 NaN                     NaN  \n",
      "3  Positive                0.40                0.875000  \n",
      "4  Positive                1.00                0.300000  \n",
      "['App' 'Translated_Review' 'Sentiment' 'Sentiment_Polarity'\n",
      " 'Sentiment_Subjectivity']\n",
      "<class 'pandas.core.frame.DataFrame'>\n",
      "RangeIndex: 64295 entries, 0 to 64294\n",
      "Data columns (total 5 columns):\n",
      " #   Column                  Non-Null Count  Dtype  \n",
      "---  ------                  --------------  -----  \n",
      " 0   App                     64295 non-null  object \n",
      " 1   Translated_Review       37427 non-null  object \n",
      " 2   Sentiment               37432 non-null  object \n",
      " 3   Sentiment_Polarity      37432 non-null  float64\n",
      " 4   Sentiment_Subjectivity  37432 non-null  float64\n",
      "dtypes: float64(2), object(3)\n",
      "memory usage: 2.5+ MB\n"
     ]
    },
    {
     "data": {
      "text/html": [
       "<div>\n",
       "<style scoped>\n",
       "    .dataframe tbody tr th:only-of-type {\n",
       "        vertical-align: middle;\n",
       "    }\n",
       "\n",
       "    .dataframe tbody tr th {\n",
       "        vertical-align: top;\n",
       "    }\n",
       "\n",
       "    .dataframe thead th {\n",
       "        text-align: right;\n",
       "    }\n",
       "</style>\n",
       "<table border=\"1\" class=\"dataframe\">\n",
       "  <thead>\n",
       "    <tr style=\"text-align: right;\">\n",
       "      <th></th>\n",
       "      <th>Sentiment_Polarity</th>\n",
       "      <th>Sentiment_Subjectivity</th>\n",
       "    </tr>\n",
       "  </thead>\n",
       "  <tbody>\n",
       "    <tr>\n",
       "      <th>count</th>\n",
       "      <td>37432.000000</td>\n",
       "      <td>37432.000000</td>\n",
       "    </tr>\n",
       "    <tr>\n",
       "      <th>mean</th>\n",
       "      <td>0.182146</td>\n",
       "      <td>0.492704</td>\n",
       "    </tr>\n",
       "    <tr>\n",
       "      <th>std</th>\n",
       "      <td>0.351301</td>\n",
       "      <td>0.259949</td>\n",
       "    </tr>\n",
       "    <tr>\n",
       "      <th>min</th>\n",
       "      <td>-1.000000</td>\n",
       "      <td>0.000000</td>\n",
       "    </tr>\n",
       "    <tr>\n",
       "      <th>25%</th>\n",
       "      <td>0.000000</td>\n",
       "      <td>0.357143</td>\n",
       "    </tr>\n",
       "    <tr>\n",
       "      <th>50%</th>\n",
       "      <td>0.150000</td>\n",
       "      <td>0.514286</td>\n",
       "    </tr>\n",
       "    <tr>\n",
       "      <th>75%</th>\n",
       "      <td>0.400000</td>\n",
       "      <td>0.650000</td>\n",
       "    </tr>\n",
       "    <tr>\n",
       "      <th>max</th>\n",
       "      <td>1.000000</td>\n",
       "      <td>1.000000</td>\n",
       "    </tr>\n",
       "  </tbody>\n",
       "</table>\n",
       "</div>"
      ],
      "text/plain": [
       "       Sentiment_Polarity  Sentiment_Subjectivity\n",
       "count        37432.000000            37432.000000\n",
       "mean             0.182146                0.492704\n",
       "std              0.351301                0.259949\n",
       "min             -1.000000                0.000000\n",
       "25%              0.000000                0.357143\n",
       "50%              0.150000                0.514286\n",
       "75%              0.400000                0.650000\n",
       "max              1.000000                1.000000"
      ]
     },
     "execution_count": 9,
     "metadata": {},
     "output_type": "execute_result"
    }
   ],
   "source": [
    "#googleplaystore_user_reviews dataframe \n",
    "print(dataset_obs_ur.head(5)) # first items of the dataset\n",
    "print(dataset_obs_ur.columns.values) #View  of the columns (varialbes) of the dataset1 \n",
    "dataset_obs_ur.info()     #concise summary of the dataframe like the index dtype and columns, non-null values and memory usage \n",
    "dataset_obs_ur.describe() #Simple statistics of the numnerical variables"
   ]
  },
  {
   "cell_type": "code",
   "execution_count": 10,
   "id": "94f0d088",
   "metadata": {},
   "outputs": [
    {
     "name": "stdout",
     "output_type": "stream",
     "text": [
      "321475\n",
      "(64295, 5)\n"
     ]
    }
   ],
   "source": [
    "size_ur = dataset_obs_ur.size # dataframe.size\n",
    "print(size_ur)\n",
    "shape_ur =dataset_obs_ur.shape  # dataframe.shape\n",
    "print(shape_ur)"
   ]
  },
  {
   "cell_type": "markdown",
   "id": "dd017dde",
   "metadata": {},
   "source": [
    "**Explanation output** The above outputs show that the googleplaystore_user_reviews dataframe does contain 64295 observations and its size (321475) is equivalent to its rows x columns (64295x5). Besides, the dataframe is characterised by 5 variables: 3 categorical variables (App, Translated_Review, and Sentiment) and two numerical variables (Sentiment_Polarity and Sentiment_Subjectivity). Based on [Kaggle platform](https://www.kaggle.com/datasets/lava18/google-play-store-apps?resource=download), the detailed data dictionary enclosed in the dataframe does provide a short description of the each variable and it is reported below. Having a close look at the enclosed variables, `sentiment analysis` has been already performed. Following definiton, a [sentiment analysis](https://ohmybox.info/blog-10-sentiment-analysis-or-the-assessment-of-subjectivity/) is a text mining technique that deals with analysing and classifying subjective opinions.Polarity and intensity are two components used in sentiment analysis. Polarity indicates whether the sentiment is negative, neutral, or positive, while intensity indicates the relative strength of the feeling. "
   ]
  },
  {
   "cell_type": "code",
   "execution_count": 11,
   "id": "dc668c7e",
   "metadata": {},
   "outputs": [
    {
     "name": "stdout",
     "output_type": "stream",
     "text": [
      "{'App': 'App name', 'Translated_Review': 'User review (Preprocessed and translated to English)', 'Sentiment': 'Positive/Negative/Neutral', 'Sentiment_Polarity': 'Sentiment polarity score', 'Sentiment_Subjectivity': 'Sentiment subjectivity score'}\n",
      "<class 'dict'>\n"
     ]
    }
   ],
   "source": [
    "#googleplaystore_user_reviews dictionary\n",
    "dataframe_dictionary_ur = {'App' :'App name', 'Translated_Review' :'User review (Preprocessed and translated to English)', \n",
    "                         'Sentiment' :'Positive/Negative/Neutral', 'Sentiment_Polarity':'Sentiment polarity score', \n",
    "                          'Sentiment_Subjectivity':'Sentiment subjectivity score'}\n",
    "\n",
    "print(dataframe_dictionary_ur)\n",
    "print(type(dataframe_dictionary_ur)) #check data type"
   ]
  },
  {
   "cell_type": "markdown",
   "id": "4310f4a4",
   "metadata": {},
   "source": [
    "The two dataframes have been merged based on their common variable, App. Further an inspection into descriptive statistics of the \"total/merged\" dataframe has been performed."
   ]
  },
  {
   "cell_type": "code",
   "execution_count": 12,
   "id": "be5d8d09",
   "metadata": {},
   "outputs": [],
   "source": [
    "#Merge the googleplaystore and googleplaystore_user_reviews dataframes based on their common variable, App \n",
    "df = pd.merge(dataset_obs, dataset_obs_ur, on ='App')"
   ]
  },
  {
   "cell_type": "code",
   "execution_count": 13,
   "id": "389b7f6e",
   "metadata": {},
   "outputs": [
    {
     "name": "stdout",
     "output_type": "stream",
     "text": [
      "                   App        Category  Rating Reviews Size  Installs  Type  \\\n",
      "0  Coloring book moana  ART_AND_DESIGN     3.9     967  14M  500,000+  Free   \n",
      "1  Coloring book moana  ART_AND_DESIGN     3.9     967  14M  500,000+  Free   \n",
      "2  Coloring book moana  ART_AND_DESIGN     3.9     967  14M  500,000+  Free   \n",
      "3  Coloring book moana  ART_AND_DESIGN     3.9     967  14M  500,000+  Free   \n",
      "4  Coloring book moana  ART_AND_DESIGN     3.9     967  14M  500,000+  Free   \n",
      "\n",
      "  Price Rating_content                     Genres      Last_updated  \\\n",
      "0     0       Everyone  Art & Design;Pretend Play  January 15, 2018   \n",
      "1     0       Everyone  Art & Design;Pretend Play  January 15, 2018   \n",
      "2     0       Everyone  Art & Design;Pretend Play  January 15, 2018   \n",
      "3     0       Everyone  Art & Design;Pretend Play  January 15, 2018   \n",
      "4     0       Everyone  Art & Design;Pretend Play  January 15, 2018   \n",
      "\n",
      "  Current_Version Android_Version  \\\n",
      "0           2.0.0    4.0.3 and up   \n",
      "1           2.0.0    4.0.3 and up   \n",
      "2           2.0.0    4.0.3 and up   \n",
      "3           2.0.0    4.0.3 and up   \n",
      "4           2.0.0    4.0.3 and up   \n",
      "\n",
      "                                   Translated_Review Sentiment  \\\n",
      "0  A kid's excessive ads. The types ads allowed a...  Negative   \n",
      "1                                         It bad >:(  Negative   \n",
      "2                                               like   Neutral   \n",
      "3                                                NaN       NaN   \n",
      "4                           I love colors inspyering  Positive   \n",
      "\n",
      "   Sentiment_Polarity  Sentiment_Subjectivity  \n",
      "0              -0.250                1.000000  \n",
      "1              -0.725                0.833333  \n",
      "2               0.000                0.000000  \n",
      "3                 NaN                     NaN  \n",
      "4               0.500                0.600000  \n",
      "<class 'pandas.core.frame.DataFrame'>\n",
      "Int64Index: 122662 entries, 0 to 122661\n",
      "Data columns (total 17 columns):\n",
      " #   Column                  Non-Null Count   Dtype  \n",
      "---  ------                  --------------   -----  \n",
      " 0   App                     122662 non-null  object \n",
      " 1   Category                122662 non-null  object \n",
      " 2   Rating                  122622 non-null  float64\n",
      " 3   Reviews                 122662 non-null  object \n",
      " 4   Size                    122662 non-null  object \n",
      " 5   Installs                122662 non-null  object \n",
      " 6   Type                    122662 non-null  object \n",
      " 7   Price                   122662 non-null  object \n",
      " 8   Rating_content          122662 non-null  object \n",
      " 9   Genres                  122662 non-null  object \n",
      " 10  Last_updated            122662 non-null  object \n",
      " 11  Current_Version         122662 non-null  object \n",
      " 12  Android_Version         122662 non-null  object \n",
      " 13  Translated_Review       72605 non-null   object \n",
      " 14  Sentiment               72615 non-null   object \n",
      " 15  Sentiment_Polarity      72615 non-null   float64\n",
      " 16  Sentiment_Subjectivity  72615 non-null   float64\n",
      "dtypes: float64(3), object(14)\n",
      "memory usage: 16.8+ MB\n"
     ]
    },
    {
     "data": {
      "text/html": [
       "<div>\n",
       "<style scoped>\n",
       "    .dataframe tbody tr th:only-of-type {\n",
       "        vertical-align: middle;\n",
       "    }\n",
       "\n",
       "    .dataframe tbody tr th {\n",
       "        vertical-align: top;\n",
       "    }\n",
       "\n",
       "    .dataframe thead th {\n",
       "        text-align: right;\n",
       "    }\n",
       "</style>\n",
       "<table border=\"1\" class=\"dataframe\">\n",
       "  <thead>\n",
       "    <tr style=\"text-align: right;\">\n",
       "      <th></th>\n",
       "      <th>Rating</th>\n",
       "      <th>Sentiment_Polarity</th>\n",
       "      <th>Sentiment_Subjectivity</th>\n",
       "    </tr>\n",
       "  </thead>\n",
       "  <tbody>\n",
       "    <tr>\n",
       "      <th>count</th>\n",
       "      <td>122622.000000</td>\n",
       "      <td>72615.000000</td>\n",
       "      <td>72615.000000</td>\n",
       "    </tr>\n",
       "    <tr>\n",
       "      <th>mean</th>\n",
       "      <td>4.322405</td>\n",
       "      <td>0.157320</td>\n",
       "      <td>0.494162</td>\n",
       "    </tr>\n",
       "    <tr>\n",
       "      <th>std</th>\n",
       "      <td>0.284766</td>\n",
       "      <td>0.332652</td>\n",
       "      <td>0.240144</td>\n",
       "    </tr>\n",
       "    <tr>\n",
       "      <th>min</th>\n",
       "      <td>2.500000</td>\n",
       "      <td>-1.000000</td>\n",
       "      <td>0.000000</td>\n",
       "    </tr>\n",
       "    <tr>\n",
       "      <th>25%</th>\n",
       "      <td>4.200000</td>\n",
       "      <td>0.000000</td>\n",
       "      <td>0.380000</td>\n",
       "    </tr>\n",
       "    <tr>\n",
       "      <th>50%</th>\n",
       "      <td>4.400000</td>\n",
       "      <td>0.129167</td>\n",
       "      <td>0.509740</td>\n",
       "    </tr>\n",
       "    <tr>\n",
       "      <th>75%</th>\n",
       "      <td>4.500000</td>\n",
       "      <td>0.356250</td>\n",
       "      <td>0.633333</td>\n",
       "    </tr>\n",
       "    <tr>\n",
       "      <th>max</th>\n",
       "      <td>4.900000</td>\n",
       "      <td>1.000000</td>\n",
       "      <td>1.000000</td>\n",
       "    </tr>\n",
       "  </tbody>\n",
       "</table>\n",
       "</div>"
      ],
      "text/plain": [
       "              Rating  Sentiment_Polarity  Sentiment_Subjectivity\n",
       "count  122622.000000        72615.000000            72615.000000\n",
       "mean        4.322405            0.157320                0.494162\n",
       "std         0.284766            0.332652                0.240144\n",
       "min         2.500000           -1.000000                0.000000\n",
       "25%         4.200000            0.000000                0.380000\n",
       "50%         4.400000            0.129167                0.509740\n",
       "75%         4.500000            0.356250                0.633333\n",
       "max         4.900000            1.000000                1.000000"
      ]
     },
     "execution_count": 13,
     "metadata": {},
     "output_type": "execute_result"
    }
   ],
   "source": [
    "print(df.head())\n",
    "df.columns.values  \n",
    "df.info()\n",
    "df.describe()"
   ]
  },
  {
   "cell_type": "code",
   "execution_count": 14,
   "id": "bfd10f31",
   "metadata": {},
   "outputs": [
    {
     "name": "stdout",
     "output_type": "stream",
     "text": [
      "2085254\n",
      "(122662, 17)\n"
     ]
    }
   ],
   "source": [
    "size3 = df.size # dataframe.size\n",
    "print(size3)\n",
    "shape3 =df.shape # dataframe.shape\n",
    "print(shape3)"
   ]
  },
  {
   "cell_type": "markdown",
   "id": "ae060680",
   "metadata": {},
   "source": [
    "The above outputs show that \"total/merged\" dataframe contains 122662 observations and 17 variables (both categorical than numerical).Then, an inspection into the variables has been performed to see the presence or not of possible mistakes and/or missing values and eventually \"clean up\" these mistakes. "
   ]
  },
  {
   "cell_type": "markdown",
   "id": "ef3fcda4",
   "metadata": {},
   "source": [
    "- INSPECTION OF EACH CATEGORICAL VARIABLE "
   ]
  },
  {
   "cell_type": "code",
   "execution_count": 15,
   "id": "8159a158",
   "metadata": {},
   "outputs": [
    {
     "name": "stdout",
     "output_type": "stream",
     "text": [
      " The number of the different Genres is 73\n"
     ]
    }
   ],
   "source": [
    "# Inspection variable Genres\n",
    "print(\" The number of the different Genres is {}\".format(df[\"Genres\"].nunique())) "
   ]
  },
  {
   "cell_type": "code",
   "execution_count": 16,
   "id": "8f6e6d5d",
   "metadata": {},
   "outputs": [
    {
     "name": "stdout",
     "output_type": "stream",
     "text": [
      "['Action' 'Action;Action & Adventure' 'Adventure' 'Arcade'\n",
      " 'Arcade;Action & Adventure' 'Art & Design' 'Art & Design;Creativity'\n",
      " 'Art & Design;Pretend Play' 'Auto & Vehicles' 'Beauty' 'Board'\n",
      " 'Board;Brain Games' 'Books & Reference' 'Business'\n",
      " 'Card;Action & Adventure' 'Casual' 'Casual;Action & Adventure'\n",
      " 'Casual;Brain Games' 'Casual;Creativity' 'Casual;Education'\n",
      " 'Casual;Pretend Play' 'Comics' 'Communication' 'Dating' 'Education'\n",
      " 'Education;Education' 'Education;Pretend Play' 'Educational;Brain Games'\n",
      " 'Educational;Creativity' 'Educational;Education'\n",
      " 'Educational;Pretend Play' 'Entertainment' 'Entertainment;Creativity'\n",
      " 'Entertainment;Music & Video' 'Events' 'Finance' 'Food & Drink'\n",
      " 'Health & Fitness' 'House & Home' 'Libraries & Demo' 'Lifestyle'\n",
      " 'Maps & Navigation' 'Medical' 'News & Magazines' 'Parenting'\n",
      " 'Parenting;Education' 'Parenting;Music & Video' 'Personalization'\n",
      " 'Photography' 'Productivity' 'Puzzle' 'Puzzle;Action & Adventure'\n",
      " 'Puzzle;Brain Games' 'Racing' 'Racing;Action & Adventure' 'Role Playing'\n",
      " 'Role Playing;Action & Adventure' 'Role Playing;Pretend Play' 'Shopping'\n",
      " 'Simulation' 'Simulation;Action & Adventure' 'Simulation;Education'\n",
      " 'Simulation;Pretend Play' 'Social' 'Sports' 'Sports;Action & Adventure'\n",
      " 'Strategy' 'Tools' 'Travel & Local' 'Travel & Local;Action & Adventure'\n",
      " 'Video Players & Editors' 'Video Players & Editors;Music & Video'\n",
      " 'Weather']\n"
     ]
    }
   ],
   "source": [
    "print(df.sort_values(by=['Genres']).Genres.unique())"
   ]
  },
  {
   "cell_type": "code",
   "execution_count": 17,
   "id": "0e01778f",
   "metadata": {},
   "outputs": [
    {
     "name": "stdout",
     "output_type": "stream",
     "text": [
      " The number of the different Genres is 46\n"
     ]
    }
   ],
   "source": [
    "#Rename to delete the mistake of wrong name genres\n",
    "df['Genres'] = df['Genres'].replace(['Action;Action & Adventure'], 'Action & Adventure')\n",
    "df['Genres'] = df['Genres'].replace(['Arcade;Action & Adventure'], 'Action & Adventure')\n",
    "df['Genres'] = df['Genres'].replace(['Art & Design;Creativity'], 'Creativity')\n",
    "df['Genres'] = df['Genres'].replace(['Art & Design;Pretend Play'], 'Pretend Play')\n",
    "df['Genres'] = df['Genres'].replace(['Board;Brain Games'], 'Brain Games')\n",
    "df['Genres'] = df['Genres'].replace(['Card;Action & Adventure'], 'Action & Adventure')\n",
    "df['Genres'] = df['Genres'].replace(['Casual;Action & Adventure'], 'Action & Adventure')\n",
    "df['Genres'] = df['Genres'].replace(['Casual;Brain Games'], 'Brain Games')\n",
    "df['Genres'] = df['Genres'].replace(['Casual;Creativity'], 'Creativity')\n",
    "df['Genres'] = df['Genres'].replace(['Casual;Education'], 'Education')\n",
    "df['Genres'] = df['Genres'].replace(['Casual;Pretend Play'], 'Pretend Play')\n",
    "df['Genres'] = df['Genres'].replace(['Education;Brain Games'], 'Brain Games')\n",
    "df['Genres'] = df['Genres'].replace(['Education;Education'], 'Education')\n",
    "df['Genres'] = df['Genres'].replace(['Education;Pretend Play'], 'Pretend Play')\n",
    "df['Genres'] = df['Genres'].replace(['Educational;Creativity'], 'Creativity')\n",
    "df['Genres'] = df['Genres'].replace(['Educational;Education'], 'Education')\n",
    "df['Genres'] = df['Genres'].replace(['Educational;Pretend Play'], 'Pretend Play')\n",
    "df['Genres'] = df['Genres'].replace(['Educational;Brain Games'], 'Brain Games')\n",
    "df['Genres'] = df['Genres'].replace(['Entertainment;Creativity'], 'Creativity')\n",
    "df['Genres'] = df['Genres'].replace(['Entertainment;Music & Video'], 'Music & Video')\n",
    "df['Genres'] = df['Genres'].replace(['Parenting;Education'], 'Education')\n",
    "df['Genres'] = df['Genres'].replace(['Parenting;Music & Video'], 'Music & Video')    \n",
    "df['Genres'] = df['Genres'].replace(['Puzzle;Action & Adventure'], 'Action & Adventure')    \n",
    "df['Genres'] = df['Genres'].replace(['Puzzle;Brain Games'], 'Brain Games')    \n",
    "df['Genres'] = df['Genres'].replace(['Racing;Action & Adventure'], 'Action & Adventure')     \n",
    "df['Genres'] = df['Genres'].replace(['Role Playing;Action & Adventure'], 'Action & Adventure')  \n",
    "df['Genres'] = df['Genres'].replace(['Role Playing;Pretend Play'], 'Pretend Play')     \n",
    "df['Genres'] = df['Genres'].replace(['Simulation;Action & Adventure'], 'Action & Adventure')     \n",
    "df['Genres'] = df['Genres'].replace(['Simulation;Education'], 'Education')     \n",
    "df['Genres'] = df['Genres'].replace(['Simulation;Pretend Play'], 'Pretend Play')     \n",
    "df['Genres'] = df['Genres'].replace(['Sports;Action & Adventure'], 'Action & Adventure')   \n",
    "df['Genres'] = df['Genres'].replace(['Travel & Local;Action & Adventure'], 'Action & Adventure')    \n",
    "df['Genres'] = df['Genres'].replace(['Video Players & Editors;Music & Video'], 'Music & Video') \n",
    "  \n",
    "print(\" The number of the different Genres is {}\".format(df[\"Genres\"].nunique()))"
   ]
  },
  {
   "cell_type": "markdown",
   "id": "d4dd6fcb",
   "metadata": {},
   "source": [
    "After removing the mistakes in the spelling of some genres, the total number of Genres is 46 (instead of 73)."
   ]
  },
  {
   "cell_type": "code",
   "execution_count": 18,
   "id": "9d9bae02",
   "metadata": {},
   "outputs": [
    {
     "name": "stdout",
     "output_type": "stream",
     "text": [
      "['Action' 'Action & Adventure' 'Adventure' 'Arcade' 'Art & Design'\n",
      " 'Auto & Vehicles' 'Beauty' 'Board' 'Books & Reference' 'Brain Games'\n",
      " 'Business' 'Casual' 'Comics' 'Communication' 'Creativity' 'Dating'\n",
      " 'Education' 'Entertainment' 'Events' 'Finance' 'Food & Drink'\n",
      " 'Health & Fitness' 'House & Home' 'Libraries & Demo' 'Lifestyle'\n",
      " 'Maps & Navigation' 'Medical' 'Music & Video' 'News & Magazines'\n",
      " 'Parenting' 'Personalization' 'Photography' 'Pretend Play' 'Productivity'\n",
      " 'Puzzle' 'Racing' 'Role Playing' 'Shopping' 'Simulation' 'Social'\n",
      " 'Sports' 'Strategy' 'Tools' 'Travel & Local' 'Video Players & Editors'\n",
      " 'Weather']\n"
     ]
    }
   ],
   "source": [
    "print(df.sort_values(by=['Genres']).Genres.unique())"
   ]
  },
  {
   "cell_type": "code",
   "execution_count": 19,
   "id": "38702125",
   "metadata": {},
   "outputs": [
    {
     "name": "stdout",
     "output_type": "stream",
     "text": [
      " The number of the different Category is 33\n"
     ]
    }
   ],
   "source": [
    "# Inspection variable Category\n",
    "print(\" The number of the different Category is {}\".format(df[\"Category\"].nunique())) "
   ]
  },
  {
   "cell_type": "code",
   "execution_count": 20,
   "id": "dbc1df0e",
   "metadata": {},
   "outputs": [
    {
     "name": "stdout",
     "output_type": "stream",
     "text": [
      "['ART_AND_DESIGN' 'AUTO_AND_VEHICLES' 'BEAUTY' 'BOOKS_AND_REFERENCE'\n",
      " 'BUSINESS' 'COMICS' 'COMMUNICATION' 'DATING' 'EDUCATION' 'ENTERTAINMENT'\n",
      " 'EVENTS' 'FAMILY' 'FINANCE' 'FOOD_AND_DRINK' 'GAME' 'HEALTH_AND_FITNESS'\n",
      " 'HOUSE_AND_HOME' 'LIBRARIES_AND_DEMO' 'LIFESTYLE' 'MAPS_AND_NAVIGATION'\n",
      " 'MEDICAL' 'NEWS_AND_MAGAZINES' 'PARENTING' 'PERSONALIZATION'\n",
      " 'PHOTOGRAPHY' 'PRODUCTIVITY' 'SHOPPING' 'SOCIAL' 'SPORTS' 'TOOLS'\n",
      " 'TRAVEL_AND_LOCAL' 'VIDEO_PLAYERS' 'WEATHER']\n"
     ]
    }
   ],
   "source": [
    "print(df.sort_values(by=['Category']).Category.unique())"
   ]
  },
  {
   "cell_type": "code",
   "execution_count": 21,
   "id": "1d14d64a",
   "metadata": {},
   "outputs": [
    {
     "name": "stdout",
     "output_type": "stream",
     "text": [
      " The number of the different Apps is 1020\n"
     ]
    }
   ],
   "source": [
    "# Inspection variable App\n",
    "print(\" The number of the different Apps is {}\".format(df[\"App\"].nunique())) "
   ]
  },
  {
   "cell_type": "code",
   "execution_count": 22,
   "id": "fa694a3f",
   "metadata": {},
   "outputs": [
    {
     "name": "stdout",
     "output_type": "stream",
     "text": [
      "['10 Best Foods for You' '11st' '1800 Contacts - Lens Store' ...\n",
      " 'Hotwire Hotel & Car Rental App' 'Housing-Real Estate & Property'\n",
      " 'Houzz Interior Design Ideas']\n"
     ]
    }
   ],
   "source": [
    "print(df.sort_values(by=['App']).App.unique())"
   ]
  },
  {
   "cell_type": "markdown",
   "id": "dc20c314",
   "metadata": {},
   "source": [
    "The output shows the presence of 1020 apps enclosed in the dataframe. However, a deep inspection of the output does show mistake in the spelling of some name of apps that have been therefore renamed in the right format."
   ]
  },
  {
   "cell_type": "code",
   "execution_count": 23,
   "id": "39c05839",
   "metadata": {},
   "outputs": [
    {
     "name": "stdout",
     "output_type": "stream",
     "text": [
      " The number of the different Apps is 965\n"
     ]
    }
   ],
   "source": [
    "#Rename to delete the mistake of wrong name app\n",
    "df['App'] = df['App'].replace(['Beauty Camera - Selfie Camera'], 'Beauty Selfie Camera')\n",
    "df['App'] = df['App'].replace(['English Persian Dictionary'], 'English Dictionary')\n",
    "df['App'] = df['App'].replace(['English to Urdu Dictionary'], 'English Dictionary')\n",
    "df['App'] = df['App'].replace(['English-Myanmar Dictionary'], 'English Dictionary')\n",
    "df['App'] = df['App'].replace(['Call Control - Call Blocker'], 'Call Blocker')\n",
    "df['App'] = df['App'].replace(['Calls Blacklist - Call Blocker'], 'Call Blocker')\n",
    "df['App'] = df['App'].replace(['Contacts+'], 'Contacts')\n",
    "df['App'] = df['App'].replace(['Dolphin Browser - Fast, Private & Adblock🐬'], 'Dolphin Browser')\n",
    "df['App'] = df['App'].replace(['Hangouts Dialer - Call Phones'], 'Hangouts')\n",
    "df['App'] = df['App'].replace(['FlirtChat - ♥Free Dating/Flirting App♥'], 'FlirtChat')\n",
    "df['App'] = df['App'].replace(['Free Dating & Flirt Chat - Choice of Love'], 'Free Dating & Flirt Chat')\n",
    "df['App'] = df['App'].replace(['Free Dating App & Flirt Chat - Cheers'], 'Free Dating & Flirt Chat')\n",
    "df['App'] = df['App'].replace(['Free Dating App & Flirt Chat - Match with Singles'], 'Free Dating & Flirt Chat')\n",
    "df['App'] = df['App'].replace(['Free Dating App - Meet Local Singles - Flirt Chat'], 'Free Dating & Flirt Chat')\n",
    "df['App'] = df['App'].replace(['Free Dating App - YoCutie - Flirt, Chat & Meet'], 'Free Dating & Flirt Chat')\n",
    "df['App'] = df['App'].replace(['Free Dating App - YoCutie - Flirt, Chat & Meet'], 'Free Dating & Flirt Chat')\n",
    "df['App'] = df['App'].replace(['BBW Dating & Curvy Singles Chat- LargeFriends'], 'BBW Dating')\n",
    "df['App'] = df['App'].replace(['BBW Dating & Plus Size Chat'], 'BBW Dating')\n",
    "df['App'] = df['App'].replace(['BBWCupid - BBW Dating App'], 'BBW Dating')\n",
    "df['App'] = df['App'].replace(['FOX NOW - On Demand & Live TV'], 'FOX')\n",
    "df['App'] = df['App'].replace(['HBO GO: Stream with TV Package'], 'HBO')\n",
    "df['App'] = df['App'].replace(['HBO NOW: Stream TV & Movies'], 'HBO')\n",
    "df['App'] = df['App'].replace(['Barbie Life™'], 'Barbie')\n",
    "df['App'] = df['App'].replace(['Barbie™ Fashion Closet'], 'Barbie')\n",
    "df['App'] = df['App'].replace(['Cat Sim Online: Play with Cats' 'Checkers ✔️'], 'Cat Sim Online')\n",
    "df['App'] = df['App'].replace(['Chess PRO Free'], 'Cat Sim Online')\n",
    "df['App'] = df['App'].replace(['Dominos Game ✔️'], 'Dominos Game')\n",
    "df['App'] = df['App'].replace(['Educational Games 4 Kids'], 'Educational Games for Kids')\n",
    "df['App'] = df['App'].replace(['Fun Kid Racing - Motocross'], 'Fun Kid Racing') \n",
    "df['App'] = df['App'].replace(['BBVA Spain'], 'BBVA Compass Banking') \n",
    "df['App'] = df['App'].replace(['ETRADE Mobile'], 'E*TRADE Mobile') \n",
    "df['App'] = df['App'].replace(['Easy Healthy Recipes'], 'Easy Recipes') \n",
    "df['App'] = df['App'].replace(['EatStreet Food Delivery App'], 'EatStreet Food Delivery') \n",
    "df['App'] = df['App'].replace(['Angry Birds 2'], 'Angry Birds') \n",
    "df['App'] = df['App'].replace(['Angry Birds Classic'], 'Angry Birds') \n",
    "df['App'] = df['App'].replace(['Angry Birds Rio'], 'Angry Birds') \n",
    "df['App'] = df['App'].replace(['Candy Crush Jelly Saga'], 'Candy Crush Saga') \n",
    "df['App'] = df['App'].replace(['Fate/Grand Order (English)'], 'Fate/Grand Order') \n",
    "df['App'] = df['App'].replace(['Calorie Counter - EasyFit free'], 'Calorie Counter') \n",
    "df['App'] = df['App'].replace(['Calorie Counter - Macros'], 'Calorie Counter')\n",
    "df['App'] = df['App'].replace(['Calorie Counter - MyFitnessPal'], 'Calorie Counter')\n",
    "df['App'] = df['App'].replace(['Calorie Counter - MyNetDiary'], 'Calorie Counter')\n",
    "df['App'] = df['App'].replace(['Calorie Counter by FatSecret'], 'Calorie Counter')\n",
    "df['App'] = df['App'].replace(['Fitbit Coach'], 'Fitbit')\n",
    "df['App'] = df['App'].replace(['Home Workout - No Equipment'], 'Home Workout')\n",
    "df['App'] = df['App'].replace(['Home Workout for Men - Bodybuilding'], 'Home Workout')\n",
    "df['App'] = df['App'].replace(['Home workouts - fat burning, abs, legs, arms,chest'], 'Home Workout')\n",
    "df['App'] = df['App'].replace(['Homes.com For Sale'], 'Homes.com 🏠 For Sale')\n",
    "df['App'] = df['App'].replace(['Best New Ringtones 2018 Free 🔥 For Android™'], 'Best New Ringtones')\n",
    "df['App'] = df['App'].replace(['Cool Popular Ringtones 2018 🔥'], 'Cool Popular Ringtones')\n",
    "df['App'] = df['App'].replace(['Diary with lock password'], 'Diary with lock')\n",
    "df['App'] = df['App'].replace(['GPS Speedometer - Trip Meter - Altimeter'], 'GPS Speedomete')\n",
    "df['App'] = df['App'].replace(['GPS Speedometer and Odometer'], 'GPS Speedomete')\n",
    "df['App'] = df['App'].replace(['GPS Speedometer, Distance Meter'], 'GPS Speedomete')\n",
    "df['App'] = df['App'].replace(['Blood Pressure Log - MyDiary'], 'Blood Pressure')\n",
    "df['App'] = df['App'].replace(['Blood Pressure(BP) Diary'], 'Blood Pressure')\n",
    "df['App'] = df['App'].replace([\"Davis's Drug Guide for Nurses\"], \"Davis's Drug Guide\")\n",
    "df['App'] = df['App'].replace(['Diabetes:M'], 'Diabetes & Diet Tracker') \n",
    "df['App'] = df['App'].replace(['ARY NEWS URDU'], 'ARY NEWS') \n",
    "df['App'] = df['App'].replace(['2018Emoji Keyboard 😂 Emoticons Lite -sticker&gif'], 'Emoji Keyboard') \n",
    "df['App'] = df['App'].replace(['Backgrounds HD (Wallpapers)'], 'Backgrounds HD Wallpapers') \n",
    "df['App'] = df['App'].replace(['Backgrounds (HD Wallpapers)'], 'Backgrounds HD Wallpapers')\n",
    "df['App'] = df['App'].replace(['Beautiful Widgets Free'], 'Beautiful Widgets')\n",
    "df['App'] = df['App'].replace(['Beautiful Widgets Pro'], 'Beautiful Widgets')\n",
    "df['App'] = df['App'].replace(['Funny Alarm Clock Ringtones'], 'Funny Ringtones')\n",
    "df['App'] = df['App'].replace(['Camera360 Lite - Selfie Camera'], 'Camera360 Lite')\n",
    "df['App'] = df['App'].replace(['Camera360: Selfie Photo Editor with Funny Sticker'], 'Camera360 Lite')\n",
    "df['App'] = df['App'].replace(['Candy Camera - selfie, beauty camera, photo editor'], 'Candy Camera')                               \n",
    "df['App'] = df['App'].replace(['Candy selfie - photo editor, live filter camera'], 'Candy Camera')                                       \n",
    "df['App'] = df['App'].replace(['HD Camera - Best Cam with filters & panorama'], 'HD Camera')    \n",
    "df['App'] = df['App'].replace(['HD Camera - Quick Snap Photo & Video'], 'HD Camera')    \n",
    "df['App'] = df['App'].replace(['HD Camera Pro for Android'], 'HD Camera')  \n",
    "df['App'] = df['App'].replace(['HD Camera Ultra' 'HD Camera for Android'], 'HD Camera')                                                                                          \n",
    "df['App'] = df['App'].replace(['CheckPoints 🏆 Rewards App'], 'CheckPoints Rewards')  \n",
    "df['App'] = df['App'].replace(['HTC Social Plugin - Facebook'], 'Facebook')  \n",
    "df['App'] = df['App'].replace(['Golf GPS Rangefinder: Golf Pad'], 'Golf GPS')  \n",
    "df['App'] = df['App'].replace(['Golf GPS by SwingxSwing'], 'Golf GPS') \n",
    "df['App'] = df['App'].replace(['Alarm Clock Free'], 'Alarm Clock') \n",
    "df['App'] = df['App'].replace(['Brightest Flashlight - LED Light'], 'Brightest Flashlight')\n",
    "df['App'] = df['App'].replace(['Brightest Flashlight Free ®' 'Brightest LED Flashlight'], 'Brightest Flashlight')\n",
    "df['App'] = df['App'].replace(['Calculator - free calculator ,multi calculator app'], 'Calculator')\n",
    "df['App'] = df['App'].replace(['Calculator - free calculator, multi calculator app'], 'Calculator') \n",
    "df['App'] = df['App'].replace(['File Manager -- Take Command of Your Files Easily'], 'File Manager')    \n",
    "df['App'] = df['App'].replace(['Flashlight & LED Torch' 'Flashlight - Torch LED Light'], 'Flashlight & LED Torch')\n",
    "df['App'] = df['App'].replace(['Flashlight & LED Torch' 'Flashlight - Torch LED Light'], 'Flashlight & LED Torch')\n",
    "df['App'] = df['App'].replace(['HTC Sense Input-AR'], 'HTC Sense Input')\n",
    "df['App'] = df['App'].replace(['Couchsurfing Travel App'], 'Couchsurfing Travel')\n",
    "df['App'] = df['App'].replace(['Flight & Hotel Booking App - ixigo'], 'Flight & Hotel Booking') \n",
    "df['App'] = df['App'].replace(['Cartoon Network App'], 'Cartoon Network')\n",
    "df['App'] = df['App'].replace(['HD Video Player'], 'HD Movie Video Player')\n",
    "df['App'] = df['App'].replace(['HTC Service － DLNA'], 'HTC Service')\n",
    "df['App'] = df['App'].replace(['HTC Service—Video Player'], 'HTC Service')\n",
    "\n",
    "# Inspection variable App\n",
    "print(\" The number of the different Apps is {}\".format(df[\"App\"].nunique())) "
   ]
  },
  {
   "cell_type": "markdown",
   "id": "1a341822",
   "metadata": {},
   "source": [
    "After removing the mistakes in the spelling of some names of apps, the total number of apps is 965 (instead of 1020)."
   ]
  },
  {
   "cell_type": "code",
   "execution_count": 24,
   "id": "b190cf3d",
   "metadata": {},
   "outputs": [
    {
     "name": "stdout",
     "output_type": "stream",
     "text": [
      " The number of the different Type is 2\n"
     ]
    }
   ],
   "source": [
    "# Inspection variable Type\n",
    "print(\" The number of the different Type is {}\".format(df[\"Type\"].nunique())) "
   ]
  },
  {
   "cell_type": "code",
   "execution_count": 25,
   "id": "313f4cfa",
   "metadata": {},
   "outputs": [
    {
     "name": "stdout",
     "output_type": "stream",
     "text": [
      "['Free' 'Paid']\n"
     ]
    }
   ],
   "source": [
    "print(df.sort_values(by=['Type']).Type.unique())\n",
    "#df.sort_values(by=['Type']).groupby(\"Type\").size()"
   ]
  },
  {
   "cell_type": "code",
   "execution_count": 26,
   "id": "b927ad89",
   "metadata": {},
   "outputs": [
    {
     "name": "stdout",
     "output_type": "stream",
     "text": [
      " The number of the different Sentiment is 3\n"
     ]
    }
   ],
   "source": [
    "# Inspection variable Sentiment\n",
    "print(\" The number of the different Sentiment is {}\".format(df[\"Sentiment\"].nunique())) "
   ]
  },
  {
   "cell_type": "code",
   "execution_count": 27,
   "id": "7a256841",
   "metadata": {},
   "outputs": [
    {
     "name": "stdout",
     "output_type": "stream",
     "text": [
      "['Negative' 'Neutral' 'Positive' nan]\n"
     ]
    }
   ],
   "source": [
    "print(df.sort_values(by=['Sentiment']).Sentiment.unique())"
   ]
  },
  {
   "cell_type": "code",
   "execution_count": 28,
   "id": "76e53bd2",
   "metadata": {},
   "outputs": [
    {
     "name": "stdout",
     "output_type": "stream",
     "text": [
      "(122662, 17)\n"
     ]
    }
   ],
   "source": [
    "shape =df.shape  # dataframe.shape\n",
    "print(shape)"
   ]
  },
  {
   "cell_type": "code",
   "execution_count": 29,
   "id": "eb57b094",
   "metadata": {},
   "outputs": [],
   "source": [
    "#Drop  nan values \n",
    "df2=df.dropna(subset=['Sentiment'])"
   ]
  },
  {
   "cell_type": "code",
   "execution_count": 30,
   "id": "d692316e",
   "metadata": {},
   "outputs": [
    {
     "name": "stdout",
     "output_type": "stream",
     "text": [
      "(72615, 17)\n"
     ]
    }
   ],
   "source": [
    "shape =df2.shape  # dataframe.shape\n",
    "print(shape)\n",
    "#df2.sort_values(by=['Sentiment']).groupby(\"Sentiment\").size()"
   ]
  },
  {
   "cell_type": "markdown",
   "id": "acdf0e22",
   "metadata": {},
   "source": [
    "After removing 50047 `Nan values` of the Sentiment variable, the total number of items is 72615. (instead of 122662)."
   ]
  },
  {
   "cell_type": "code",
   "execution_count": 31,
   "id": "60268930",
   "metadata": {},
   "outputs": [
    {
     "name": "stdout",
     "output_type": "stream",
     "text": [
      " The number of the different Content Rating is 5\n"
     ]
    }
   ],
   "source": [
    "# Inspection variable Content Rating\n",
    "print(\" The number of the different Content Rating is {}\".format(df2[\"Rating_content\"].nunique())) "
   ]
  },
  {
   "cell_type": "code",
   "execution_count": 32,
   "id": "1a9cfcd8",
   "metadata": {},
   "outputs": [
    {
     "name": "stdout",
     "output_type": "stream",
     "text": [
      "['Adults only 18+' 'Everyone' 'Everyone 10+' 'Mature 17+' 'Teen']\n"
     ]
    }
   ],
   "source": [
    "print(df2.sort_values(by=['Rating_content']).Rating_content.unique())"
   ]
  },
  {
   "cell_type": "code",
   "execution_count": 33,
   "id": "b46a6383",
   "metadata": {},
   "outputs": [
    {
     "data": {
      "text/plain": [
       "Rating_content\n",
       "Adults only 18+       36\n",
       "Everyone           54402\n",
       "Everyone 10+        3041\n",
       "Mature 17+          4480\n",
       "Teen               10656\n",
       "dtype: int64"
      ]
     },
     "execution_count": 33,
     "metadata": {},
     "output_type": "execute_result"
    }
   ],
   "source": [
    "df2.sort_values(by=['Rating_content']).groupby(\"Rating_content\").size()"
   ]
  },
  {
   "cell_type": "markdown",
   "id": "afb6cecf",
   "metadata": {},
   "source": [
    "Since the categories of the Rating variables do not correspond with the definition encloed in the definition dictionary ('Rating_content':'Age group the app is targeted at - Children / Mature 21+ / Adult'), this variable will be NOT enclosed in the further data analysis."
   ]
  },
  {
   "cell_type": "code",
   "execution_count": 34,
   "id": "588ed5d1",
   "metadata": {},
   "outputs": [],
   "source": [
    "#Drop out variable Rating_content\n",
    "del df2['Rating_content']\n",
    "#print(df2.dtypes)"
   ]
  },
  {
   "cell_type": "code",
   "execution_count": 35,
   "id": "b7a3990a",
   "metadata": {},
   "outputs": [
    {
     "name": "stdout",
     "output_type": "stream",
     "text": [
      " The number of the different Sizes of apps is 168\n"
     ]
    }
   ],
   "source": [
    "# Inspection variable Size\n",
    "print(\" The number of the different Sizes of apps is {}\".format(df2[\"Size\"].nunique())) "
   ]
  },
  {
   "cell_type": "code",
   "execution_count": 36,
   "id": "e7a720b0",
   "metadata": {},
   "outputs": [
    {
     "name": "stdout",
     "output_type": "stream",
     "text": [
      "['1.2M' '1.3M' '1.5M' '1.6M' '1.7M' '1.8M' '1.9M' '10.0M' '10M' '118k'\n",
      " '11M' '12M' '13M' '14M' '15M' '16M' '17M' '18M' '19M' '2.0M' '2.1M'\n",
      " '2.3M' '2.4M' '2.6M' '2.7M' '2.8M' '2.9M' '20M' '21M' '22M' '232k' '23M'\n",
      " '24M' '25M' '26M' '27M' '28M' '292k' '29M' '3.0M' '3.1M' '3.2M' '3.3M'\n",
      " '3.5M' '3.6M' '3.8M' '3.9M' '30M' '31M' '32M' '33M' '35M' '36M' '37M'\n",
      " '38M' '39M' '4.0M' '4.1M' '4.2M' '4.3M' '4.4M' '4.5M' '4.6M' '4.7M'\n",
      " '4.9M' '40M' '41M' '42M' '43M' '44M' '45M' '46M' '47M' '48M' '49M' '5.0M'\n",
      " '5.1M' '5.2M' '5.3M' '5.4M' '5.5M' '5.6M' '5.7M' '5.9M' '50M' '51M' '52M'\n",
      " '53M' '54M' '55M' '56M' '57M' '58M' '59M' '6.0M' '6.1M' '6.2M' '6.3M'\n",
      " '6.4M' '6.5M' '6.6M' '6.8M' '6.9M' '60M' '61M' '624k' '62M' '63M' '65M'\n",
      " '66M' '67M' '68M' '695k' '7.0M' '7.1M' '7.2M' '7.3M' '7.4M' '7.5M' '7.6M'\n",
      " '7.7M' '7.8M' '7.9M' '70M' '71M' '720k' '72M' '73M' '74M' '75M' '76M'\n",
      " '77M' '78M' '8.0M' '8.1M' '8.2M' '8.3M' '8.4M' '8.5M' '8.5k' '8.7M'\n",
      " '8.9M' '81M' '82M' '83M' '853k' '85M' '86M' '88M' '9.1M' '9.2M' '9.3M'\n",
      " '9.4M' '9.5M' '9.6M' '9.7M' '9.8M' '9.9M' '91M' '92M' '93M' '94M' '95M'\n",
      " '96M' '97M' '98M' '99M' 'Varies with device']\n"
     ]
    }
   ],
   "source": [
    "print(df2.sort_values(by=['Size']).Size.unique())\n",
    "#df2.sort_values(by=['Size']).groupby(\"Size\").size()"
   ]
  },
  {
   "cell_type": "code",
   "execution_count": 37,
   "id": "a03184ca",
   "metadata": {},
   "outputs": [],
   "source": [
    "#Drop out Size = Varies with device\n",
    "df3=df2.query(\"Size != 'Varies with device'\")\n",
    "#df3.sort_values(by=['Size']).groupby(\"Size\").size()"
   ]
  },
  {
   "cell_type": "code",
   "execution_count": 38,
   "id": "7927b1a6",
   "metadata": {},
   "outputs": [
    {
     "name": "stdout",
     "output_type": "stream",
     "text": [
      " The number of the different Price is 9\n"
     ]
    }
   ],
   "source": [
    "# Inspection variable Price\n",
    "print(\" The number of the different Price is {}\".format(df3[\"Price\"].nunique())) "
   ]
  },
  {
   "cell_type": "code",
   "execution_count": 39,
   "id": "6b86289a",
   "metadata": {},
   "outputs": [
    {
     "name": "stdout",
     "output_type": "stream",
     "text": [
      "['$0.99' '$11.99' '$2.49' '$29.99' '$3.99' '$4.99' '$6.99' '$9.99' '0']\n"
     ]
    }
   ],
   "source": [
    "print(df3.sort_values(by=['Price']).Price.unique())"
   ]
  },
  {
   "cell_type": "code",
   "execution_count": 40,
   "id": "9a3c9581",
   "metadata": {},
   "outputs": [],
   "source": [
    "df4 = df3.copy() #Make a copy of the original \"merged dataframe\""
   ]
  },
  {
   "cell_type": "code",
   "execution_count": 41,
   "id": "82ec7947",
   "metadata": {},
   "outputs": [],
   "source": [
    "#Remove the unit $\n",
    "df4.Price = df4['Price'].replace('[\\$]', '', regex=True)"
   ]
  },
  {
   "cell_type": "code",
   "execution_count": 42,
   "id": "e820ceab",
   "metadata": {},
   "outputs": [
    {
     "name": "stdout",
     "output_type": "stream",
     "text": [
      "['0' '0.99' '11.99' '2.49' '29.99' '3.99' '4.99' '6.99' '9.99']\n"
     ]
    }
   ],
   "source": [
    "print(df4.sort_values(by=['Price']).Price.unique())"
   ]
  },
  {
   "cell_type": "markdown",
   "id": "405d14a4",
   "metadata": {},
   "source": [
    "The outpput shows the presence of 0 values in the Price variable that could be related to apps without cost (0$), thus apps of type free."
   ]
  },
  {
   "cell_type": "code",
   "execution_count": 43,
   "id": "65039465",
   "metadata": {},
   "outputs": [],
   "source": [
    "df5=df4.copy() #Make a copy of the original \"merged dataframe\""
   ]
  },
  {
   "cell_type": "code",
   "execution_count": 44,
   "id": "e6cba8e6",
   "metadata": {},
   "outputs": [],
   "source": [
    "#Conversion of the price variable into a numerical type \n",
    "df5.Price = pd.to_numeric(df5.Price)\n",
    "#print(df5.dtypes)"
   ]
  },
  {
   "cell_type": "code",
   "execution_count": 45,
   "id": "e02fa789",
   "metadata": {},
   "outputs": [
    {
     "name": "stdout",
     "output_type": "stream",
     "text": [
      " The number of the different Reviews is 715\n"
     ]
    }
   ],
   "source": [
    "# Inspection variable Reviews\n",
    "print(\" The number of the different Reviews is {}\".format(df5[\"Reviews\"].nunique())) \n",
    "#print(df5.sort_values(by=['Reviews']).Reviews.unique())"
   ]
  },
  {
   "cell_type": "markdown",
   "id": "6ae09d33",
   "metadata": {},
   "source": [
    "No mistakes of missing values in the Reviews variable"
   ]
  },
  {
   "cell_type": "code",
   "execution_count": 46,
   "id": "1dc6c7ff",
   "metadata": {},
   "outputs": [],
   "source": [
    "df6=df5.copy() #Make a copy of the original \"merged dataframe\""
   ]
  },
  {
   "cell_type": "code",
   "execution_count": 47,
   "id": "59e8a43e",
   "metadata": {},
   "outputs": [],
   "source": [
    "#Conversion of the Review variable into a numerical type \n",
    "df6.Reviews = pd.to_numeric(df6.Reviews)\n",
    "#print(df6.head(5))\n",
    "#print(df6.dtypes)"
   ]
  },
  {
   "cell_type": "code",
   "execution_count": 48,
   "id": "b03e0da1",
   "metadata": {},
   "outputs": [
    {
     "name": "stdout",
     "output_type": "stream",
     "text": [
      " The number of the different Installs is 12\n"
     ]
    }
   ],
   "source": [
    "# Inspection variable Installs\n",
    "print(\" The number of the different Installs is {}\".format(df6[\"Installs\"].nunique())) \n",
    "#print(df6.sort_values(by=['Installs']).Installs.unique())"
   ]
  },
  {
   "cell_type": "markdown",
   "id": "b62f0798",
   "metadata": {},
   "source": [
    "No mistakes of missing values in the Installs variable"
   ]
  },
  {
   "cell_type": "code",
   "execution_count": 49,
   "id": "f9bb1f20",
   "metadata": {},
   "outputs": [
    {
     "name": "stdout",
     "output_type": "stream",
     "text": [
      " The number of the different Last updated apps' is 214\n"
     ]
    }
   ],
   "source": [
    "# Inspection variable Last_updated'\n",
    "print(\" The number of the different Last updated apps' is {}\".format(df6[\"Last_updated\"].nunique())) \n",
    "#print(df6.sort_values(by=['Last_updated']).Last_updated.unique())"
   ]
  },
  {
   "cell_type": "markdown",
   "id": "815f4b3c",
   "metadata": {},
   "source": [
    "No mistakes of missing values in the Last Update variable"
   ]
  },
  {
   "cell_type": "code",
   "execution_count": 50,
   "id": "72094e12",
   "metadata": {},
   "outputs": [
    {
     "name": "stdout",
     "output_type": "stream",
     "text": [
      " The number of the different Current_Version apps' is 468\n"
     ]
    }
   ],
   "source": [
    "# Inspection variable Current_Version\n",
    "print(\" The number of the different Current_Version apps' is {}\".format(df6[\"Current_Version\"].nunique())) \n",
    "#print(df6.sort_values(by=['Current_Version']).Current_Version.unique())"
   ]
  },
  {
   "cell_type": "markdown",
   "id": "10d8700d",
   "metadata": {},
   "source": [
    "No mistakes of missing values in the Current Version variable"
   ]
  },
  {
   "cell_type": "markdown",
   "id": "94b1ac23",
   "metadata": {},
   "source": [
    "Inspection of the NUMERICAL VARIABLE "
   ]
  },
  {
   "cell_type": "code",
   "execution_count": 51,
   "id": "9a910a97",
   "metadata": {},
   "outputs": [
    {
     "name": "stdout",
     "output_type": "stream",
     "text": [
      "22\n"
     ]
    }
   ],
   "source": [
    "# Inspection Variable Rating \n",
    "print(df6.sort_values(by=[\"Rating\"]).Rating.nunique())"
   ]
  },
  {
   "cell_type": "code",
   "execution_count": 52,
   "id": "811b8574",
   "metadata": {},
   "outputs": [
    {
     "name": "stdout",
     "output_type": "stream",
     "text": [
      "[2.6 2.7 3.  3.1 3.2 3.3 3.4 3.5 3.6 3.7 3.8 3.9 4.  4.1 4.2 4.3 4.4 4.5\n",
      " 4.6 4.7 4.8 4.9 nan]\n"
     ]
    }
   ],
   "source": [
    "print(df6.sort_values(by=[\"Rating\"]).Rating.unique())"
   ]
  },
  {
   "cell_type": "markdown",
   "id": "0afca317",
   "metadata": {},
   "source": [
    "The output shows the presence of nan values in the rating variable. In order to not exclude them from the daframe, it has been made the assumption to impute these values with mean rating of the respective category."
   ]
  },
  {
   "cell_type": "code",
   "execution_count": 53,
   "id": "23b68fb7",
   "metadata": {},
   "outputs": [],
   "source": [
    "df7=df6.copy()  #Make a copy of the original \"merged dataframe\""
   ]
  },
  {
   "cell_type": "code",
   "execution_count": 54,
   "id": "54387a40",
   "metadata": {},
   "outputs": [],
   "source": [
    "# Create a new column (variable) rating_new \n",
    "df7['rating_new'] = df7['Rating'].astype(float)\n",
    "\n",
    "# Imputing Nan values with mean rating of the respective category variable\n",
    "df7['rating_new'] = df7['rating_new'].fillna(value = df7.groupby(['Category'])['rating_new'].transform('mean'))\n",
    "\n",
    "#df7.head(5)"
   ]
  },
  {
   "cell_type": "code",
   "execution_count": 55,
   "id": "902b171b",
   "metadata": {},
   "outputs": [],
   "source": [
    "#Use of numpy.round() method to round the new rating values to the nearest integer.\n",
    "df7['rating_new'] = np.round(df7['rating_new'], 0) "
   ]
  },
  {
   "cell_type": "code",
   "execution_count": 56,
   "id": "a0ba481f",
   "metadata": {},
   "outputs": [
    {
     "name": "stdout",
     "output_type": "stream",
     "text": [
      "3\n"
     ]
    }
   ],
   "source": [
    "# Inspection Variable Rating \n",
    "print(df7.sort_values(by=[\"rating_new\"]).rating_new.nunique())"
   ]
  },
  {
   "cell_type": "code",
   "execution_count": 57,
   "id": "b016653c",
   "metadata": {},
   "outputs": [
    {
     "name": "stdout",
     "output_type": "stream",
     "text": [
      "[3. 4. 5.]\n"
     ]
    }
   ],
   "source": [
    "print(df7.sort_values(by=[\"rating_new\"]).rating_new.unique())"
   ]
  },
  {
   "cell_type": "code",
   "execution_count": 58,
   "id": "b750b821",
   "metadata": {},
   "outputs": [],
   "source": [
    "# Drop out other nan value for which it was not possible to replace with the mean of the correspoend category\n",
    "df8=df7.dropna(subset=['rating_new'])"
   ]
  },
  {
   "cell_type": "code",
   "execution_count": 59,
   "id": "92f9fb29",
   "metadata": {},
   "outputs": [],
   "source": [
    "#let's convert the rating from 'float' to  'String' (object) type \n",
    "df8['rating_new'] = df8['rating_new'].astype(str) \n",
    "#print(df8.dtypes)"
   ]
  },
  {
   "cell_type": "code",
   "execution_count": 60,
   "id": "dc5a836b",
   "metadata": {},
   "outputs": [
    {
     "name": "stdout",
     "output_type": "stream",
     "text": [
      "4041\n"
     ]
    }
   ],
   "source": [
    "# Inspection Sentiment Polarity variable \n",
    "print(df8.sort_values(by=[\"Sentiment_Polarity\"]).Sentiment_Polarity.nunique())"
   ]
  },
  {
   "cell_type": "code",
   "execution_count": 61,
   "id": "bf8043db",
   "metadata": {},
   "outputs": [
    {
     "name": "stdout",
     "output_type": "stream",
     "text": [
      "[-1.         -0.9765625  -0.9375     ...  0.98828125  0.9921875\n",
      "  1.        ]\n"
     ]
    }
   ],
   "source": [
    "print(df8.sort_values(by=['Sentiment_Polarity']).Sentiment_Polarity.unique())"
   ]
  },
  {
   "cell_type": "code",
   "execution_count": 62,
   "id": "2df69db3",
   "metadata": {},
   "outputs": [
    {
     "name": "stdout",
     "output_type": "stream",
     "text": [
      "3295\n"
     ]
    }
   ],
   "source": [
    "# Inspection of the Sentiment Subjectivity variable \n",
    "print(df8.sort_values(by=[\"Sentiment_Subjectivity\"]).Sentiment_Subjectivity.nunique())"
   ]
  },
  {
   "cell_type": "code",
   "execution_count": 63,
   "id": "cd8f200d",
   "metadata": {},
   "outputs": [
    {
     "name": "stdout",
     "output_type": "stream",
     "text": [
      "[0.         0.02222222 0.025      ... 0.96666667 0.975      1.        ]\n"
     ]
    }
   ],
   "source": [
    "print(df8.sort_values(by=['Sentiment_Subjectivity']).Sentiment_Subjectivity.unique())"
   ]
  },
  {
   "cell_type": "markdown",
   "id": "2f4da8e8",
   "metadata": {},
   "source": [
    "After inspection and clean up of each variable in the \"merged dataframe\", taking into consideration that the number of observations has been changed, a view again at the `descriptive statistics of the merged dataframe` (and enclosed variables) has been carried out."
   ]
  },
  {
   "cell_type": "code",
   "execution_count": 64,
   "id": "093f5b32",
   "metadata": {},
   "outputs": [
    {
     "name": "stdout",
     "output_type": "stream",
     "text": [
      "                   App        Category  Rating  Reviews Size  Installs  Type  \\\n",
      "0  Coloring book moana  ART_AND_DESIGN     3.9      967  14M  500,000+  Free   \n",
      "1  Coloring book moana  ART_AND_DESIGN     3.9      967  14M  500,000+  Free   \n",
      "2  Coloring book moana  ART_AND_DESIGN     3.9      967  14M  500,000+  Free   \n",
      "4  Coloring book moana  ART_AND_DESIGN     3.9      967  14M  500,000+  Free   \n",
      "5  Coloring book moana  ART_AND_DESIGN     3.9      967  14M  500,000+  Free   \n",
      "\n",
      "   Price        Genres      Last_updated Current_Version Android_Version  \\\n",
      "0    0.0  Pretend Play  January 15, 2018           2.0.0    4.0.3 and up   \n",
      "1    0.0  Pretend Play  January 15, 2018           2.0.0    4.0.3 and up   \n",
      "2    0.0  Pretend Play  January 15, 2018           2.0.0    4.0.3 and up   \n",
      "4    0.0  Pretend Play  January 15, 2018           2.0.0    4.0.3 and up   \n",
      "5    0.0  Pretend Play  January 15, 2018           2.0.0    4.0.3 and up   \n",
      "\n",
      "                                   Translated_Review Sentiment  \\\n",
      "0  A kid's excessive ads. The types ads allowed a...  Negative   \n",
      "1                                         It bad >:(  Negative   \n",
      "2                                               like   Neutral   \n",
      "4                           I love colors inspyering  Positive   \n",
      "5                                             I hate  Negative   \n",
      "\n",
      "   Sentiment_Polarity  Sentiment_Subjectivity rating_new  \n",
      "0              -0.250                1.000000        4.0  \n",
      "1              -0.725                0.833333        4.0  \n",
      "2               0.000                0.000000        4.0  \n",
      "4               0.500                0.600000        4.0  \n",
      "5              -0.800                0.900000        4.0  \n",
      "<class 'pandas.core.frame.DataFrame'>\n",
      "Int64Index: 45049 entries, 0 to 122561\n",
      "Data columns (total 17 columns):\n",
      " #   Column                  Non-Null Count  Dtype  \n",
      "---  ------                  --------------  -----  \n",
      " 0   App                     45049 non-null  object \n",
      " 1   Category                45049 non-null  object \n",
      " 2   Rating                  45010 non-null  float64\n",
      " 3   Reviews                 45049 non-null  int64  \n",
      " 4   Size                    45049 non-null  object \n",
      " 5   Installs                45049 non-null  object \n",
      " 6   Type                    45049 non-null  object \n",
      " 7   Price                   45049 non-null  float64\n",
      " 8   Genres                  45049 non-null  object \n",
      " 9   Last_updated            45049 non-null  object \n",
      " 10  Current_Version         45049 non-null  object \n",
      " 11  Android_Version         45049 non-null  object \n",
      " 12  Translated_Review       45046 non-null  object \n",
      " 13  Sentiment               45049 non-null  object \n",
      " 14  Sentiment_Polarity      45049 non-null  float64\n",
      " 15  Sentiment_Subjectivity  45049 non-null  float64\n",
      " 16  rating_new              45049 non-null  object \n",
      "dtypes: float64(4), int64(1), object(12)\n",
      "memory usage: 6.2+ MB\n"
     ]
    },
    {
     "data": {
      "text/html": [
       "<div>\n",
       "<style scoped>\n",
       "    .dataframe tbody tr th:only-of-type {\n",
       "        vertical-align: middle;\n",
       "    }\n",
       "\n",
       "    .dataframe tbody tr th {\n",
       "        vertical-align: top;\n",
       "    }\n",
       "\n",
       "    .dataframe thead th {\n",
       "        text-align: right;\n",
       "    }\n",
       "</style>\n",
       "<table border=\"1\" class=\"dataframe\">\n",
       "  <thead>\n",
       "    <tr style=\"text-align: right;\">\n",
       "      <th></th>\n",
       "      <th>Rating</th>\n",
       "      <th>Reviews</th>\n",
       "      <th>Price</th>\n",
       "      <th>Sentiment_Polarity</th>\n",
       "      <th>Sentiment_Subjectivity</th>\n",
       "    </tr>\n",
       "  </thead>\n",
       "  <tbody>\n",
       "    <tr>\n",
       "      <th>count</th>\n",
       "      <td>45010.000000</td>\n",
       "      <td>4.504900e+04</td>\n",
       "      <td>45049.000000</td>\n",
       "      <td>45049.000000</td>\n",
       "      <td>45049.000000</td>\n",
       "    </tr>\n",
       "    <tr>\n",
       "      <th>mean</th>\n",
       "      <td>4.294908</td>\n",
       "      <td>2.604551e+06</td>\n",
       "      <td>0.140273</td>\n",
       "      <td>0.153911</td>\n",
       "      <td>0.498031</td>\n",
       "    </tr>\n",
       "    <tr>\n",
       "      <th>std</th>\n",
       "      <td>0.288968</td>\n",
       "      <td>6.049995e+06</td>\n",
       "      <td>1.348599</td>\n",
       "      <td>0.336744</td>\n",
       "      <td>0.239905</td>\n",
       "    </tr>\n",
       "    <tr>\n",
       "      <th>min</th>\n",
       "      <td>2.600000</td>\n",
       "      <td>1.000000e+01</td>\n",
       "      <td>0.000000</td>\n",
       "      <td>-1.000000</td>\n",
       "      <td>0.000000</td>\n",
       "    </tr>\n",
       "    <tr>\n",
       "      <th>25%</th>\n",
       "      <td>4.200000</td>\n",
       "      <td>1.065700e+04</td>\n",
       "      <td>0.000000</td>\n",
       "      <td>-0.016234</td>\n",
       "      <td>0.387500</td>\n",
       "    </tr>\n",
       "    <tr>\n",
       "      <th>50%</th>\n",
       "      <td>4.400000</td>\n",
       "      <td>8.584200e+04</td>\n",
       "      <td>0.000000</td>\n",
       "      <td>0.124479</td>\n",
       "      <td>0.514286</td>\n",
       "    </tr>\n",
       "    <tr>\n",
       "      <th>75%</th>\n",
       "      <td>4.500000</td>\n",
       "      <td>1.381624e+06</td>\n",
       "      <td>0.000000</td>\n",
       "      <td>0.350000</td>\n",
       "      <td>0.633333</td>\n",
       "    </tr>\n",
       "    <tr>\n",
       "      <th>max</th>\n",
       "      <td>4.900000</td>\n",
       "      <td>4.489389e+07</td>\n",
       "      <td>29.990000</td>\n",
       "      <td>1.000000</td>\n",
       "      <td>1.000000</td>\n",
       "    </tr>\n",
       "  </tbody>\n",
       "</table>\n",
       "</div>"
      ],
      "text/plain": [
       "             Rating       Reviews         Price  Sentiment_Polarity  \\\n",
       "count  45010.000000  4.504900e+04  45049.000000        45049.000000   \n",
       "mean       4.294908  2.604551e+06      0.140273            0.153911   \n",
       "std        0.288968  6.049995e+06      1.348599            0.336744   \n",
       "min        2.600000  1.000000e+01      0.000000           -1.000000   \n",
       "25%        4.200000  1.065700e+04      0.000000           -0.016234   \n",
       "50%        4.400000  8.584200e+04      0.000000            0.124479   \n",
       "75%        4.500000  1.381624e+06      0.000000            0.350000   \n",
       "max        4.900000  4.489389e+07     29.990000            1.000000   \n",
       "\n",
       "       Sentiment_Subjectivity  \n",
       "count            45049.000000  \n",
       "mean                 0.498031  \n",
       "std                  0.239905  \n",
       "min                  0.000000  \n",
       "25%                  0.387500  \n",
       "50%                  0.514286  \n",
       "75%                  0.633333  \n",
       "max                  1.000000  "
      ]
     },
     "execution_count": 64,
     "metadata": {},
     "output_type": "execute_result"
    }
   ],
   "source": [
    "print(df8.head(5))\n",
    "df8.columns.values  \n",
    "df8.info()\n",
    "df8.describe()"
   ]
  },
  {
   "cell_type": "code",
   "execution_count": 65,
   "id": "adb1f3e7",
   "metadata": {},
   "outputs": [
    {
     "name": "stdout",
     "output_type": "stream",
     "text": [
      " The number of the different Genres is 46\n",
      " The number of the different Category is 33\n",
      " The number of the different Apps is 543\n",
      " The number of the different Type is 2\n",
      " The number of the different Sentiment is 3\n",
      " The number of the different Sizes of apps is 167\n",
      " The number of the different Reviews is 715\n",
      " The number of the different Rating_new is 3\n"
     ]
    }
   ],
   "source": [
    "# Ri Inspection variable Genres\n",
    "print(\" The number of the different Genres is {}\".format(df8[\"Genres\"].nunique())) \n",
    "# Ri Inspection variable Category\n",
    "print(\" The number of the different Category is {}\".format(df8[\"Category\"].nunique()))\n",
    "# Ri Inspection variable App\n",
    "print(\" The number of the different Apps is {}\".format(df8[\"App\"].nunique())) \n",
    "# Inspection variable Type\n",
    "print(\" The number of the different Type is {}\".format(df8[\"Type\"].nunique()))\n",
    "# Ri Inspection variable Sentiment\n",
    "print(\" The number of the different Sentiment is {}\".format(df8[\"Sentiment\"].nunique())) \n",
    "# Ri Inspection variable Size\n",
    "print(\" The number of the different Sizes of apps is {}\".format(df8[\"Size\"].nunique())) \n",
    "# Ri - Inspection variable Reviews\n",
    "print(\" The number of the different Reviews is {}\".format(df8[\"Reviews\"].nunique())) \n",
    "# Ri - Inspection variable Rating_new\n",
    "print(\" The number of the different Rating_new is {}\".format(df8[\"rating_new\"].nunique()))"
   ]
  },
  {
   "cell_type": "markdown",
   "id": "60de93aa",
   "metadata": {},
   "source": [
    "To sum up, after clean up mistakes due to wrong spelling in the name of some variables (genres, app etc..) and after made some assumptions about missing values, the output does show that the total number of observations in the 'merged Dataframe\" has been changed from 122662 to 45049 observations, the \"updated\" number of Apps is 543 in 33 categories and 46 genres. Besides, the apps are free and paid. The number of reviews is 715, and their rating is characterised by 3 type rating. "
   ]
  },
  {
   "cell_type": "markdown",
   "id": "519c9d44",
   "metadata": {},
   "source": [
    "- VISUALISAZION OF EACH CATEGORICAL VARIABLE / UNIVARIATE ANALYSIS"
   ]
  },
  {
   "cell_type": "markdown",
   "id": "c91ea1b1",
   "metadata": {},
   "source": [
    "- _Category variable_"
   ]
  },
  {
   "cell_type": "code",
   "execution_count": 66,
   "id": "ea8b25a6",
   "metadata": {},
   "outputs": [
    {
     "name": "stdout",
     "output_type": "stream",
     "text": [
      "['ART_AND_DESIGN' 'AUTO_AND_VEHICLES' 'BEAUTY' 'BOOKS_AND_REFERENCE'\n",
      " 'BUSINESS' 'COMICS' 'COMMUNICATION' 'DATING' 'EDUCATION' 'ENTERTAINMENT'\n",
      " 'EVENTS' 'FAMILY' 'FINANCE' 'FOOD_AND_DRINK' 'GAME' 'HEALTH_AND_FITNESS'\n",
      " 'HOUSE_AND_HOME' 'LIBRARIES_AND_DEMO' 'LIFESTYLE' 'MAPS_AND_NAVIGATION'\n",
      " 'MEDICAL' 'NEWS_AND_MAGAZINES' 'PARENTING' 'PERSONALIZATION'\n",
      " 'PHOTOGRAPHY' 'PRODUCTIVITY' 'SHOPPING' 'SOCIAL' 'SPORTS' 'TOOLS'\n",
      " 'TRAVEL_AND_LOCAL' 'VIDEO_PLAYERS' 'WEATHER']\n"
     ]
    }
   ],
   "source": [
    "print(df8.sort_values(by=['Category']).Category.unique())"
   ]
  },
  {
   "cell_type": "code",
   "execution_count": 67,
   "id": "fdac982d",
   "metadata": {},
   "outputs": [
    {
     "data": {
      "text/plain": [
       "GAME                   33.212724\n",
       "FAMILY                  9.547382\n",
       "DATING                  6.230993\n",
       "HEALTH_AND_FITNESS      5.815889\n",
       "MEDICAL                 4.273125\n",
       "SPORTS                  3.298630\n",
       "NEWS_AND_MAGAZINES      3.174321\n",
       "TRAVEL_AND_LOCAL        3.038913\n",
       "BUSINESS                2.881307\n",
       "LIFESTYLE               2.830252\n",
       "ENTERTAINMENT           2.721481\n",
       "FINANCE                 2.612711\n",
       "SHOPPING                2.392950\n",
       "PERSONALIZATION         2.093276\n",
       "PHOTOGRAPHY             1.966747\n",
       "TOOLS                   1.884615\n",
       "PRODUCTIVITY            1.285267\n",
       "COMMUNICATION           1.274168\n",
       "EDUCATION               1.256410\n",
       "HOUSE_AND_HOME          1.169837\n",
       "FOOD_AND_DRINK          1.109903\n",
       "SOCIAL                  0.972275\n",
       "ART_AND_DESIGN          0.765833\n",
       "LIBRARIES_AND_DEMO      0.739195\n",
       "BOOKS_AND_REFERENCE     0.697019\n",
       "BEAUTY                  0.670381\n",
       "VIDEO_PLAYERS           0.439521\n",
       "PARENTING               0.408444\n",
       "AUTO_AND_VEHICLES       0.364048\n",
       "MAPS_AND_NAVIGATION     0.346290\n",
       "EVENTS                  0.261937\n",
       "WEATHER                 0.241959\n",
       "COMICS                  0.022198\n",
       "Name: Category, dtype: float64"
      ]
     },
     "execution_count": 67,
     "metadata": {},
     "output_type": "execute_result"
    }
   ],
   "source": [
    "df8[\"Category\"].value_counts(normalize=True) * 100"
   ]
  },
  {
   "cell_type": "code",
   "execution_count": 68,
   "id": "bd5dbd4d",
   "metadata": {},
   "outputs": [
    {
     "name": "stdout",
     "output_type": "stream",
     "text": [
      "GAME                   14962\n",
      "FAMILY                  4301\n",
      "DATING                  2807\n",
      "HEALTH_AND_FITNESS      2620\n",
      "MEDICAL                 1925\n",
      "SPORTS                  1486\n",
      "NEWS_AND_MAGAZINES      1430\n",
      "TRAVEL_AND_LOCAL        1369\n",
      "BUSINESS                1298\n",
      "LIFESTYLE               1275\n",
      "ENTERTAINMENT           1226\n",
      "FINANCE                 1177\n",
      "SHOPPING                1078\n",
      "PERSONALIZATION          943\n",
      "PHOTOGRAPHY              886\n",
      "TOOLS                    849\n",
      "PRODUCTIVITY             579\n",
      "COMMUNICATION            574\n",
      "EDUCATION                566\n",
      "HOUSE_AND_HOME           527\n",
      "FOOD_AND_DRINK           500\n",
      "SOCIAL                   438\n",
      "ART_AND_DESIGN           345\n",
      "LIBRARIES_AND_DEMO       333\n",
      "BOOKS_AND_REFERENCE      314\n",
      "BEAUTY                   302\n",
      "VIDEO_PLAYERS            198\n",
      "PARENTING                184\n",
      "AUTO_AND_VEHICLES        164\n",
      "MAPS_AND_NAVIGATION      156\n",
      "EVENTS                   118\n",
      "WEATHER                  109\n",
      "COMICS                    10\n",
      "Name: Category, dtype: int64\n"
     ]
    }
   ],
   "source": [
    "print(df8['Category'].value_counts()) "
   ]
  },
  {
   "cell_type": "code",
   "execution_count": 69,
   "id": "57fd4505",
   "metadata": {},
   "outputs": [],
   "source": [
    "df9 = df8.copy() #Make a copy of the original \"merged dataframe\""
   ]
  },
  {
   "cell_type": "code",
   "execution_count": 70,
   "id": "12c8b2e6",
   "metadata": {},
   "outputs": [
    {
     "name": "stderr",
     "output_type": "stream",
     "text": [
      "C:\\Users\\Michela\\anaconda3\\lib\\site-packages\\seaborn\\_decorators.py:36: FutureWarning: Pass the following variable as a keyword arg: x. From version 0.12, the only valid positional argument will be `data`, and passing other arguments without an explicit keyword will result in an error or misinterpretation.\n",
      "  warnings.warn(\n"
     ]
    },
    {
     "data": {
      "image/png": "[encoded data removed]",
      "text/plain": [
       "<Figure size 720x576 with 1 Axes>"
      ]
     },
     "metadata": {
      "needs_background": "light"
     },
     "output_type": "display_data"
    },
    {
     "data": {
      "text/plain": [
       "<Figure size 432x288 with 0 Axes>"
      ]
     },
     "metadata": {},
     "output_type": "display_data"
    }
   ],
   "source": [
    "#Barplot of the countcategorys(obs) in the Category variable \n",
    "plt.figure(figsize=(10,8))\n",
    "\n",
    "sns.countplot(df9['Category'])\n",
    "\n",
    "plt.xticks(rotation=90)\n",
    "plt.title('Distribution of observations for different Category Apps')\n",
    "plt.savefig('Fig1.png')\n",
    "\n",
    "plt.show()\n",
    "plt.clf()"
   ]
  },
  {
   "cell_type": "markdown",
   "id": "24459ff1",
   "metadata": {},
   "source": [
    "The plot shows that four categories of apps have the highest percentages compared to the others categories. These are game, family, dating and health&fitness categories apps (33.21%, 9.55%, 6.23% and 5.81%, respectively). On the other hand, the category comics does seem to have the lowest percentages (0.02%)."
   ]
  },
  {
   "cell_type": "markdown",
   "id": "0c3e5479",
   "metadata": {},
   "source": [
    "- _Genres variable_"
   ]
  },
  {
   "cell_type": "code",
   "execution_count": 71,
   "id": "e3a2c373",
   "metadata": {},
   "outputs": [
    {
     "name": "stdout",
     "output_type": "stream",
     "text": [
      "['Action' 'Action & Adventure' 'Adventure' 'Arcade' 'Art & Design'\n",
      " 'Auto & Vehicles' 'Beauty' 'Board' 'Books & Reference' 'Brain Games'\n",
      " 'Business' 'Casual' 'Comics' 'Communication' 'Creativity' 'Dating'\n",
      " 'Education' 'Entertainment' 'Events' 'Finance' 'Food & Drink'\n",
      " 'Health & Fitness' 'House & Home' 'Libraries & Demo' 'Lifestyle'\n",
      " 'Maps & Navigation' 'Medical' 'Music & Video' 'News & Magazines'\n",
      " 'Parenting' 'Personalization' 'Photography' 'Pretend Play' 'Productivity'\n",
      " 'Puzzle' 'Racing' 'Role Playing' 'Shopping' 'Simulation' 'Social'\n",
      " 'Sports' 'Strategy' 'Tools' 'Travel & Local' 'Video Players & Editors'\n",
      " 'Weather']\n"
     ]
    }
   ],
   "source": [
    "print(df9.sort_values(by=['Genres']).Genres.unique())"
   ]
  },
  {
   "cell_type": "code",
   "execution_count": 72,
   "id": "6d187927",
   "metadata": {},
   "outputs": [
    {
     "data": {
      "text/plain": [
       "Action                     10.428644\n",
       "Casual                      8.131146\n",
       "Dating                      6.230993\n",
       "Sports                      6.228773\n",
       "Health & Fitness            5.815889\n",
       "Arcade                      5.001221\n",
       "Puzzle                      4.639393\n",
       "Medical                     4.273125\n",
       "Entertainment               3.391862\n",
       "News & Magazines            3.174321\n",
       "Travel & Local              2.998957\n",
       "Business                    2.881307\n",
       "Lifestyle                   2.830252\n",
       "Action & Adventure          2.688184\n",
       "Finance                     2.612711\n",
       "Shopping                    2.392950\n",
       "Education                   2.255322\n",
       "Personalization             2.093276\n",
       "Photography                 1.966747\n",
       "Strategy                    1.926791\n",
       "Tools                       1.884615\n",
       "Pretend Play                1.864636\n",
       "Productivity                1.285267\n",
       "Communication               1.274168\n",
       "Brain Games                 1.220893\n",
       "House & Home                1.169837\n",
       "Food & Drink                1.109903\n",
       "Social                      0.972275\n",
       "Libraries & Demo            0.739195\n",
       "Books & Reference           0.697019\n",
       "Beauty                      0.670381\n",
       "Creativity                  0.654843\n",
       "Art & Design                0.583809\n",
       "Racing                      0.557171\n",
       "Simulation                  0.459500\n",
       "Role Playing                0.446181\n",
       "Board                       0.443961\n",
       "Video Players & Editors     0.439521\n",
       "Auto & Vehicles             0.364048\n",
       "Maps & Navigation           0.346290\n",
       "Events                      0.261937\n",
       "Weather                     0.241959\n",
       "Music & Video               0.166485\n",
       "Parenting                   0.159826\n",
       "Comics                      0.022198\n",
       "Adventure                   0.002220\n",
       "Name: Genres, dtype: float64"
      ]
     },
     "execution_count": 72,
     "metadata": {},
     "output_type": "execute_result"
    }
   ],
   "source": [
    "df9[\"Genres\"].value_counts(normalize=True) * 100"
   ]
  },
  {
   "cell_type": "code",
   "execution_count": 73,
   "id": "36b30433",
   "metadata": {},
   "outputs": [
    {
     "name": "stdout",
     "output_type": "stream",
     "text": [
      "Action                     4698\n",
      "Casual                     3663\n",
      "Dating                     2807\n",
      "Sports                     2806\n",
      "Health & Fitness           2620\n",
      "Arcade                     2253\n",
      "Puzzle                     2090\n",
      "Medical                    1925\n",
      "Entertainment              1528\n",
      "News & Magazines           1430\n",
      "Travel & Local             1351\n",
      "Business                   1298\n",
      "Lifestyle                  1275\n",
      "Action & Adventure         1211\n",
      "Finance                    1177\n",
      "Shopping                   1078\n",
      "Education                  1016\n",
      "Personalization             943\n",
      "Photography                 886\n",
      "Strategy                    868\n",
      "Tools                       849\n",
      "Pretend Play                840\n",
      "Productivity                579\n",
      "Communication               574\n",
      "Brain Games                 550\n",
      "House & Home                527\n",
      "Food & Drink                500\n",
      "Social                      438\n",
      "Libraries & Demo            333\n",
      "Books & Reference           314\n",
      "Beauty                      302\n",
      "Creativity                  295\n",
      "Art & Design                263\n",
      "Racing                      251\n",
      "Simulation                  207\n",
      "Role Playing                201\n",
      "Board                       200\n",
      "Video Players & Editors     198\n",
      "Auto & Vehicles             164\n",
      "Maps & Navigation           156\n",
      "Events                      118\n",
      "Weather                     109\n",
      "Music & Video                75\n",
      "Parenting                    72\n",
      "Comics                       10\n",
      "Adventure                     1\n",
      "Name: Genres, dtype: int64\n"
     ]
    }
   ],
   "source": [
    "print(df9['Genres'].value_counts()) "
   ]
  },
  {
   "cell_type": "code",
   "execution_count": 74,
   "id": "ffb64305",
   "metadata": {},
   "outputs": [],
   "source": [
    "df10 = df9.copy() #Make a copy of the original \"merged dataframe\""
   ]
  },
  {
   "cell_type": "code",
   "execution_count": 75,
   "id": "12fa2de1",
   "metadata": {},
   "outputs": [
    {
     "name": "stderr",
     "output_type": "stream",
     "text": [
      "C:\\Users\\Michela\\anaconda3\\lib\\site-packages\\seaborn\\_decorators.py:36: FutureWarning: Pass the following variable as a keyword arg: x. From version 0.12, the only valid positional argument will be `data`, and passing other arguments without an explicit keyword will result in an error or misinterpretation.\n",
      "  warnings.warn(\n"
     ]
    },
    {
     "data": {
      "image/png": "[encoded data removed]",
      "text/plain": [
       "<Figure size 720x576 with 1 Axes>"
      ]
     },
     "metadata": {
      "needs_background": "light"
     },
     "output_type": "display_data"
    },
    {
     "data": {
      "text/plain": [
       "<Figure size 432x288 with 0 Axes>"
      ]
     },
     "metadata": {},
     "output_type": "display_data"
    }
   ],
   "source": [
    "#Barplot of the countcategorys(obs) in the Genres variable \n",
    "plt.figure(figsize=(10,8))\n",
    "\n",
    "sns.countplot(df10['Genres'])\n",
    "plt.xticks(rotation=90)\n",
    "plt.title('Distribution of observations per different genres apps')\n",
    "plt.savefig('Fig2.png')\n",
    "\n",
    "plt.show()\n",
    "plt.clf()"
   ]
  },
  {
   "cell_type": "markdown",
   "id": "620b0285",
   "metadata": {},
   "source": [
    "**Explantion plot** The plot shows that four different Genres Apps (Action, Casual, Dating, Sports and Health&Fitness) have the highest percentages compared to the others genres (10.43%, 8.13%, 6.23%, 6.22%, and 5.81%, respectively). The lowest percentages of observations seem to be related to the Comics and Adventure Genres (0.02%, 0.002%, respectively)."
   ]
  },
  {
   "cell_type": "markdown",
   "id": "b3d07fc6",
   "metadata": {},
   "source": [
    "- _Type variable_"
   ]
  },
  {
   "cell_type": "code",
   "execution_count": 76,
   "id": "667e2dfe",
   "metadata": {},
   "outputs": [
    {
     "name": "stdout",
     "output_type": "stream",
     "text": [
      " The categories of the Type variable are 2\n"
     ]
    }
   ],
   "source": [
    "#Inspection Type variable \n",
    "print(\" The categories of the Type variable are {}\".format(df10[\"Type\"].nunique())) "
   ]
  },
  {
   "cell_type": "code",
   "execution_count": 77,
   "id": "c308d2a9",
   "metadata": {},
   "outputs": [
    {
     "data": {
      "text/plain": [
       "Free    98.264112\n",
       "Paid     1.735888\n",
       "Name: Type, dtype: float64"
      ]
     },
     "execution_count": 77,
     "metadata": {},
     "output_type": "execute_result"
    }
   ],
   "source": [
    "df10[\"Type\"].value_counts(normalize=True) * 100  #The % of obs for each category of Type"
   ]
  },
  {
   "cell_type": "code",
   "execution_count": 78,
   "id": "580d3941",
   "metadata": {},
   "outputs": [
    {
     "data": {
      "image/png": "[encoded data removed]",
      "text/plain": [
       "<Figure size 720x576 with 1 Axes>"
      ]
     },
     "metadata": {},
     "output_type": "display_data"
    },
    {
     "data": {
      "text/plain": [
       "<Figure size 432x288 with 0 Axes>"
      ]
     },
     "metadata": {},
     "output_type": "display_data"
    }
   ],
   "source": [
    "#Display plot of the distribution of Type variable\n",
    "plt.figure(figsize=(10,8))\n",
    "species_types = ['Free', 'Paid']\n",
    "species_types_freqs = [98.26, 1.73]\n",
    "# Make the pie chart \n",
    "plt.pie(species_types_freqs, autopct = '%0.1f%%')  #Enclose the percentange to each slice \n",
    "plt.axis('equal')\n",
    "plt.legend(species_types, loc=0) # Enclose a legend to the plot \n",
    "plt.title('Distribution of observations per different Species Apps') \n",
    "plt.savefig('Fig3.png')  #Save the plot in png format \n",
    "plt.show()\n",
    "plt.clf()"
   ]
  },
  {
   "cell_type": "markdown",
   "id": "7d0ab3b6",
   "metadata": {},
   "source": [
    "**Explanation plot** The plot does display that the Apps are mainly free than paid (98.3%, 1.7%, respectively)."
   ]
  },
  {
   "cell_type": "markdown",
   "id": "035047cf",
   "metadata": {},
   "source": [
    "- _Sentiment variable_"
   ]
  },
  {
   "cell_type": "code",
   "execution_count": 79,
   "id": "10810a97",
   "metadata": {},
   "outputs": [
    {
     "name": "stdout",
     "output_type": "stream",
     "text": [
      " The categories of the Sentiment variable are 3\n"
     ]
    }
   ],
   "source": [
    "#Inspection Type variable \n",
    "print(\" The categories of the Sentiment variable are {}\".format(df10[\"Sentiment\"].nunique())) "
   ]
  },
  {
   "cell_type": "code",
   "execution_count": 80,
   "id": "7456a1ac",
   "metadata": {},
   "outputs": [
    {
     "data": {
      "text/plain": [
       "Positive    62.529690\n",
       "Negative    26.289152\n",
       "Neutral     11.181158\n",
       "Name: Sentiment, dtype: float64"
      ]
     },
     "execution_count": 80,
     "metadata": {},
     "output_type": "execute_result"
    }
   ],
   "source": [
    "df10[\"Sentiment\"].value_counts(normalize=True) * 100  #The % of obs for each category of sentiment"
   ]
  },
  {
   "cell_type": "code",
   "execution_count": 81,
   "id": "83ed97ec",
   "metadata": {},
   "outputs": [
    {
     "data": {
      "image/png": "[encoded data removed]",
      "text/plain": [
       "<Figure size 720x576 with 1 Axes>"
      ]
     },
     "metadata": {},
     "output_type": "display_data"
    },
    {
     "data": {
      "text/plain": [
       "<Figure size 432x288 with 0 Axes>"
      ]
     },
     "metadata": {},
     "output_type": "display_data"
    }
   ],
   "source": [
    "#Display plot of the distribution of Sentiment\n",
    "plt.figure(figsize=(10,8))\n",
    "\n",
    "species_sentiment = ['Positive', 'Negative', 'Neutral']\n",
    "species_sentiment_freqs = [62.53, 26.29, 11.18]\n",
    "\n",
    "# Make the pie chart \n",
    "plt.pie(species_sentiment_freqs, autopct = '%0.1f%%')  #Enclose the percentange to each slice \n",
    "plt.axis('equal')\n",
    "plt.legend(species_sentiment, loc=0) # Enclose a legend to the plot \n",
    "plt.title('Distribution of observations per different Sentiment of Apps by the reviewers') \n",
    "plt.savefig('Fig4.png')  #Save the plot in png format \n",
    "plt.show()\n",
    "plt.clf()"
   ]
  },
  {
   "cell_type": "markdown",
   "id": "02642661",
   "metadata": {},
   "source": [
    "**Explanation plot** The plot does display that the reviews have mainly a positive sentiment for the related apps ( 62.52%), followed by a negative sentiment (26.28%). "
   ]
  },
  {
   "cell_type": "markdown",
   "id": "5a924c12",
   "metadata": {},
   "source": [
    "- _New(Rating) variable_ "
   ]
  },
  {
   "cell_type": "code",
   "execution_count": 82,
   "id": "adf4847d",
   "metadata": {},
   "outputs": [
    {
     "name": "stdout",
     "output_type": "stream",
     "text": [
      " The categories of the (New) Rating variable are 3\n"
     ]
    }
   ],
   "source": [
    "# Inspection (New) Rating variable \n",
    "print(\" The categories of the (New) Rating variable are {}\".format(df10[\"rating_new\"].nunique())) "
   ]
  },
  {
   "cell_type": "code",
   "execution_count": 83,
   "id": "83532252",
   "metadata": {},
   "outputs": [
    {
     "data": {
      "text/plain": [
       "4.0    82.350330\n",
       "5.0    16.280051\n",
       "3.0     1.369620\n",
       "Name: rating_new, dtype: float64"
      ]
     },
     "execution_count": 83,
     "metadata": {},
     "output_type": "execute_result"
    }
   ],
   "source": [
    "df10[\"rating_new\"].value_counts(normalize=True) * 100  #The % of obs for each category of new_rating"
   ]
  },
  {
   "cell_type": "code",
   "execution_count": 84,
   "id": "47fc358e",
   "metadata": {},
   "outputs": [
    {
     "data": {
      "text/plain": [
       "rating_new\n",
       "3.0      617\n",
       "4.0    37098\n",
       "5.0     7334\n",
       "dtype: int64"
      ]
     },
     "execution_count": 84,
     "metadata": {},
     "output_type": "execute_result"
    }
   ],
   "source": [
    "df10.sort_values(by=['rating_new']).groupby(\"rating_new\").size()"
   ]
  },
  {
   "cell_type": "code",
   "execution_count": 85,
   "id": "3da01b94",
   "metadata": {},
   "outputs": [
    {
     "data": {
      "image/png": "[encoded data removed]",
      "text/plain": [
       "<Figure size 720x576 with 1 Axes>"
      ]
     },
     "metadata": {
      "needs_background": "light"
     },
     "output_type": "display_data"
    },
    {
     "data": {
      "text/plain": [
       "<Figure size 432x288 with 0 Axes>"
      ]
     },
     "metadata": {},
     "output_type": "display_data"
    }
   ],
   "source": [
    "#Barplot of the countcategory in the new rating variable \n",
    "plt.figure(figsize=(10,8))\n",
    "name_rating = ['rating 3', 'rating 4', 'rating 5']\n",
    "\n",
    "num_obs_rating = [617, 37098, 7334] \n",
    "\n",
    "plt.bar(range(len(name_rating)), num_obs_rating) # Make the plot\n",
    "# Add title and label to  the x and y-axis \n",
    "plt.xticks(rotation=45)\n",
    "plt.title('Distribution of  count per different categories of Rating in Apps')\n",
    "plt.xlabel('Categories rating')\n",
    "plt.ylabel('Count')\n",
    "ax = plt.subplot()\n",
    "ax.set_xticks(range(3))\n",
    "ax.set_xticklabels(name_rating)\n",
    "\n",
    "plt.savefig('Fig5.png')  #Save the plot in png format \n",
    "plt.show()\n",
    "plt.clf()"
   ]
  },
  {
   "cell_type": "markdown",
   "id": "7c3e0b2f",
   "metadata": {},
   "source": [
    "**Explanation plot** The plot shows that rating 4 has the highest percentage, followed by rating 5 and rating 3 (82.35%, 16.30% and 1.37%, respectively)."
   ]
  },
  {
   "cell_type": "markdown",
   "id": "22a740c9",
   "metadata": {},
   "source": [
    "- VISUALISAZION OF EACH NUMERICAL VARIABLES / UNIVARIATE ANALYSIS"
   ]
  },
  {
   "cell_type": "code",
   "execution_count": 86,
   "id": "005d7ea3",
   "metadata": {},
   "outputs": [
    {
     "name": "stdout",
     "output_type": "stream",
     "text": [
      " The number of the different Reviews is 715\n"
     ]
    }
   ],
   "source": [
    "# variable Reviews\n",
    "print(\" The number of the different Reviews is {}\".format(df10[\"Reviews\"].nunique())) "
   ]
  },
  {
   "cell_type": "code",
   "execution_count": 87,
   "id": "c0267b15",
   "metadata": {},
   "outputs": [
    {
     "data": {
      "text/html": [
       "<div>\n",
       "<style scoped>\n",
       "    .dataframe tbody tr th:only-of-type {\n",
       "        vertical-align: middle;\n",
       "    }\n",
       "\n",
       "    .dataframe tbody tr th {\n",
       "        vertical-align: top;\n",
       "    }\n",
       "\n",
       "    .dataframe thead th {\n",
       "        text-align: right;\n",
       "    }\n",
       "</style>\n",
       "<table border=\"1\" class=\"dataframe\">\n",
       "  <thead>\n",
       "    <tr style=\"text-align: right;\">\n",
       "      <th></th>\n",
       "      <th>Rating</th>\n",
       "      <th>Reviews</th>\n",
       "      <th>Price</th>\n",
       "      <th>Sentiment_Polarity</th>\n",
       "      <th>Sentiment_Subjectivity</th>\n",
       "    </tr>\n",
       "  </thead>\n",
       "  <tbody>\n",
       "    <tr>\n",
       "      <th>count</th>\n",
       "      <td>45010.000000</td>\n",
       "      <td>4.504900e+04</td>\n",
       "      <td>45049.000000</td>\n",
       "      <td>45049.000000</td>\n",
       "      <td>45049.000000</td>\n",
       "    </tr>\n",
       "    <tr>\n",
       "      <th>mean</th>\n",
       "      <td>4.294908</td>\n",
       "      <td>2.604551e+06</td>\n",
       "      <td>0.140273</td>\n",
       "      <td>0.153911</td>\n",
       "      <td>0.498031</td>\n",
       "    </tr>\n",
       "    <tr>\n",
       "      <th>std</th>\n",
       "      <td>0.288968</td>\n",
       "      <td>6.049995e+06</td>\n",
       "      <td>1.348599</td>\n",
       "      <td>0.336744</td>\n",
       "      <td>0.239905</td>\n",
       "    </tr>\n",
       "    <tr>\n",
       "      <th>min</th>\n",
       "      <td>2.600000</td>\n",
       "      <td>1.000000e+01</td>\n",
       "      <td>0.000000</td>\n",
       "      <td>-1.000000</td>\n",
       "      <td>0.000000</td>\n",
       "    </tr>\n",
       "    <tr>\n",
       "      <th>25%</th>\n",
       "      <td>4.200000</td>\n",
       "      <td>1.065700e+04</td>\n",
       "      <td>0.000000</td>\n",
       "      <td>-0.016234</td>\n",
       "      <td>0.387500</td>\n",
       "    </tr>\n",
       "    <tr>\n",
       "      <th>50%</th>\n",
       "      <td>4.400000</td>\n",
       "      <td>8.584200e+04</td>\n",
       "      <td>0.000000</td>\n",
       "      <td>0.124479</td>\n",
       "      <td>0.514286</td>\n",
       "    </tr>\n",
       "    <tr>\n",
       "      <th>75%</th>\n",
       "      <td>4.500000</td>\n",
       "      <td>1.381624e+06</td>\n",
       "      <td>0.000000</td>\n",
       "      <td>0.350000</td>\n",
       "      <td>0.633333</td>\n",
       "    </tr>\n",
       "    <tr>\n",
       "      <th>max</th>\n",
       "      <td>4.900000</td>\n",
       "      <td>4.489389e+07</td>\n",
       "      <td>29.990000</td>\n",
       "      <td>1.000000</td>\n",
       "      <td>1.000000</td>\n",
       "    </tr>\n",
       "  </tbody>\n",
       "</table>\n",
       "</div>"
      ],
      "text/plain": [
       "             Rating       Reviews         Price  Sentiment_Polarity  \\\n",
       "count  45010.000000  4.504900e+04  45049.000000        45049.000000   \n",
       "mean       4.294908  2.604551e+06      0.140273            0.153911   \n",
       "std        0.288968  6.049995e+06      1.348599            0.336744   \n",
       "min        2.600000  1.000000e+01      0.000000           -1.000000   \n",
       "25%        4.200000  1.065700e+04      0.000000           -0.016234   \n",
       "50%        4.400000  8.584200e+04      0.000000            0.124479   \n",
       "75%        4.500000  1.381624e+06      0.000000            0.350000   \n",
       "max        4.900000  4.489389e+07     29.990000            1.000000   \n",
       "\n",
       "       Sentiment_Subjectivity  \n",
       "count            45049.000000  \n",
       "mean                 0.498031  \n",
       "std                  0.239905  \n",
       "min                  0.000000  \n",
       "25%                  0.387500  \n",
       "50%                  0.514286  \n",
       "75%                  0.633333  \n",
       "max                  1.000000  "
      ]
     },
     "execution_count": 87,
     "metadata": {},
     "output_type": "execute_result"
    }
   ],
   "source": [
    "#Overview of summary statistics of the numerical variables.\n",
    "df10.describe() "
   ]
  },
  {
   "cell_type": "markdown",
   "id": "84ed9c10",
   "metadata": {},
   "source": [
    "**Explanation output table** The table diplays the descriptive statistics of the three numerical variables of interest in this data analysis: Price, Sentiment Polarity and Sentiment Subjectivity. Graphical plots of these variables does allow visually to get a more insight in their descriptive statistics. "
   ]
  },
  {
   "cell_type": "markdown",
   "id": "7a9771df",
   "metadata": {},
   "source": [
    "- _Price variable_ "
   ]
  },
  {
   "cell_type": "code",
   "execution_count": 88,
   "id": "eb328d2a",
   "metadata": {},
   "outputs": [
    {
     "data": {
      "image/png": "[encoded data removed]",
      "text/plain": [
       "<Figure size 576x360 with 1 Axes>"
      ]
     },
     "metadata": {
      "needs_background": "light"
     },
     "output_type": "display_data"
    },
    {
     "data": {
      "text/plain": [
       "<Figure size 432x288 with 0 Axes>"
      ]
     },
     "metadata": {},
     "output_type": "display_data"
    },
    {
     "data": {
      "image/png": "[encoded data removed]",
      "text/plain": [
       "<Figure size 720x576 with 1 Axes>"
      ]
     },
     "metadata": {
      "needs_background": "light"
     },
     "output_type": "display_data"
    },
    {
     "data": {
      "text/plain": [
       "<Figure size 432x288 with 0 Axes>"
      ]
     },
     "metadata": {},
     "output_type": "display_data"
    }
   ],
   "source": [
    "#Boxplot for Price\n",
    "plt.figure(figsize=(8,5))\n",
    "sns.boxplot(data=df10, x='Price')\n",
    "plt.xlabel('Cost ($)')\n",
    "plt.title('Boxplot of Cost of the App')\n",
    "plt.savefig('Fig6.png')  #Save the plot in png format \n",
    "plt.show()\n",
    "plt.clf()\n",
    "\n",
    "# Histogram for cost of the app \n",
    "plt.figure(figsize=(10,8))\n",
    "sns.histplot(df10.Price)\n",
    "plt.xlabel(' Cost app ($)')\n",
    "plt.ylabel('Cost Count')\n",
    "plt.title('Distribution of cost of the app ($)')  #Enclose the title in the plot\n",
    "\n",
    "plt.savefig('Fig7.png')   #Save the figure in png format \n",
    "plt.show()\n",
    "plt.clf()"
   ]
  },
  {
   "cell_type": "markdown",
   "id": "e5e0e7f6",
   "metadata": {},
   "source": [
    "**Explanation plot** The plots diplay that the majority of apps is no cost, thus free. On the other side, the max cost of an app seem to be \n",
    "of 29.99$."
   ]
  },
  {
   "cell_type": "markdown",
   "id": "fce162eb",
   "metadata": {},
   "source": [
    "- _Sentiment_Polarity variable_ "
   ]
  },
  {
   "cell_type": "code",
   "execution_count": 89,
   "id": "bfde2bc6",
   "metadata": {},
   "outputs": [
    {
     "data": {
      "image/png": "[encoded data removed]",
      "text/plain": [
       "<Figure size 576x360 with 1 Axes>"
      ]
     },
     "metadata": {
      "needs_background": "light"
     },
     "output_type": "display_data"
    },
    {
     "data": {
      "text/plain": [
       "<Figure size 432x288 with 0 Axes>"
      ]
     },
     "metadata": {},
     "output_type": "display_data"
    },
    {
     "data": {
      "image/png": "[encoded data removed]",
      "text/plain": [
       "<Figure size 720x576 with 1 Axes>"
      ]
     },
     "metadata": {
      "needs_background": "light"
     },
     "output_type": "display_data"
    },
    {
     "data": {
      "text/plain": [
       "<Figure size 432x288 with 0 Axes>"
      ]
     },
     "metadata": {},
     "output_type": "display_data"
    }
   ],
   "source": [
    "#Boxplot for Sentiment_Polarity\n",
    "plt.figure(figsize=(8,5))\n",
    "sns.boxplot(data=df10, x='Sentiment_Polarity')\n",
    "plt.xlabel('Sentiment Polarity score')\n",
    "plt.title('Boxplot of Sentiment_Polarity of the Apps')\n",
    "plt.savefig('Fig8.png')  #Save the plot in png format \n",
    "plt.show()\n",
    "plt.clf()\n",
    "\n",
    "# Histogram for Sentiment_Polarity\n",
    "plt.figure(figsize=(10,8))\n",
    "sns.histplot(df10.Sentiment_Polarity)\n",
    "plt.xlabel('Sentiment Polarity score')\n",
    "plt.ylabel('Sentiment Count')\n",
    "plt.title('Distribution of Sentiment_Polarity of the Apps')  #Enclose the title in the plot\n",
    "\n",
    "plt.savefig('Fig9.png')   #Save the figure in png format \n",
    "plt.show()\n",
    "plt.clf()"
   ]
  },
  {
   "cell_type": "markdown",
   "id": "5be67e44",
   "metadata": {},
   "source": [
    "**Explanation plot** Neverless, the sentiment polarity score does vary from -1 to 1, the plots diplay that the reviewers have a mean score of sentiment polarity of 0.153911."
   ]
  },
  {
   "cell_type": "markdown",
   "id": "d3268fe5",
   "metadata": {},
   "source": [
    "- _Sentiment_Subjectivity variable_"
   ]
  },
  {
   "cell_type": "code",
   "execution_count": 90,
   "id": "739f8af4",
   "metadata": {},
   "outputs": [
    {
     "data": {
      "image/png": "[encoded data removed]",
      "text/plain": [
       "<Figure size 576x360 with 1 Axes>"
      ]
     },
     "metadata": {
      "needs_background": "light"
     },
     "output_type": "display_data"
    },
    {
     "data": {
      "text/plain": [
       "<Figure size 432x288 with 0 Axes>"
      ]
     },
     "metadata": {},
     "output_type": "display_data"
    },
    {
     "data": {
      "image/png": "[encoded data removed]",
      "text/plain": [
       "<Figure size 720x576 with 1 Axes>"
      ]
     },
     "metadata": {
      "needs_background": "light"
     },
     "output_type": "display_data"
    },
    {
     "data": {
      "text/plain": [
       "<Figure size 432x288 with 0 Axes>"
      ]
     },
     "metadata": {},
     "output_type": "display_data"
    }
   ],
   "source": [
    "#Boxplot for Sentiment_Subjectivity\n",
    "plt.figure(figsize=(8,5))\n",
    "sns.boxplot(data=df10, x='Sentiment_Subjectivity')\n",
    "plt.xlabel('Sentiment Subjectivity score')\n",
    "plt.title('Boxplot of Sentiment Subjectivity of the Apps')\n",
    "plt.savefig('Fig10.png')  #Save the plot in png format \n",
    "plt.show()\n",
    "plt.clf()\n",
    "\n",
    "# Histogram for Sentiment_Subjectivity\n",
    "plt.figure(figsize=(10,8))\n",
    "sns.histplot(df10.Sentiment_Subjectivity)\n",
    "plt.xlabel('Sentiment Subjectivity score')\n",
    "plt.ylabel('Sentiment Count')\n",
    "plt.title('Distribution of Sentiment Subjectivity of the Apps')  #Enclose the title in the plot\n",
    "\n",
    "plt.savefig('Fig11.png')   #Save the figure in png format \n",
    "plt.show()\n",
    "plt.clf()"
   ]
  },
  {
   "cell_type": "markdown",
   "id": "82e8ca78",
   "metadata": {},
   "source": [
    "**Explantion plots** Neverless, the sentiment subjectivitoe score does vary from 0 to 1, the plots diplay that the reviewers have a mean score of sentiment subjectivites of 0.498031."
   ]
  },
  {
   "cell_type": "markdown",
   "id": "772305a2",
   "metadata": {},
   "source": [
    "- VISUALISAZION OF CATEGORICAL AND NUMERICAL VARIABLES / BIVARIATE ANALYSIS"
   ]
  },
  {
   "cell_type": "markdown",
   "id": "50f76729",
   "metadata": {},
   "source": [
    "- _Visualisation of the most 5 top apps_"
   ]
  },
  {
   "cell_type": "code",
   "execution_count": 91,
   "id": "de7826c4",
   "metadata": {},
   "outputs": [
    {
     "data": {
      "text/plain": [
       "Candy Crush Saga    1826\n",
       "Helix Jump          1638\n",
       "Angry Birds         1579\n",
       "8 Ball Pool         1533\n",
       "Garena Free Fire     888\n",
       "Name: App, dtype: int64"
      ]
     },
     "execution_count": 91,
     "metadata": {},
     "output_type": "execute_result"
    }
   ],
   "source": [
    "# Displaying the top 5 apps\n",
    "df10['App'].value_counts().iloc[0:5]"
   ]
  },
  {
   "cell_type": "code",
   "execution_count": 92,
   "id": "a7192ebf",
   "metadata": {},
   "outputs": [
    {
     "data": {
      "image/png": "[encoded data removed]",
      "text/plain": [
       "<Figure size 720x576 with 1 Axes>"
      ]
     },
     "metadata": {
      "needs_background": "light"
     },
     "output_type": "display_data"
    },
    {
     "data": {
      "text/plain": [
       "<Figure size 432x288 with 0 Axes>"
      ]
     },
     "metadata": {},
     "output_type": "display_data"
    }
   ],
   "source": [
    "#Barplot of the countcategory of the 5 top apps\n",
    "plt.figure(figsize=(10,8))\n",
    "\n",
    "name_app = ['Candy Crush Saga', 'Helix Jump', 'Angry Birds', '8 Ball Pool', 'Garena Free Fire']\n",
    "num_obs_app = [1826, 1638, 1579, 1533, 888]\n",
    "\n",
    "plt.bar(range(len(name_app)), num_obs_app) # Make the bars plot \n",
    "\n",
    "# Add title and label to  the x and y-axis \n",
    "plt.xticks(rotation=90)\n",
    "plt.title('Distribution of count for the top 5 App')\n",
    "plt.xlabel('Name App')\n",
    "plt.ylabel('Count')\n",
    "ax = plt.subplot()\n",
    "ax.set_xticks(range(5))\n",
    "ax.set_xticklabels(name_app)\n",
    "\n",
    "plt.savefig('Fig12.png') #Save the plot in png format \n",
    "plt.show()\n",
    "plt.clf()"
   ]
  },
  {
   "cell_type": "markdown",
   "id": "bc7d86e9",
   "metadata": {},
   "source": [
    "The plot does display that the most 5 (popular) top apps range from 1826 to 888 observation for Candy Crush Saga and Garena Free Fire, respectively."
   ]
  },
  {
   "cell_type": "markdown",
   "id": "b11c7ca2",
   "metadata": {},
   "source": [
    "Visualisation of the most popular five categories apps on free and paid variable"
   ]
  },
  {
   "cell_type": "code",
   "execution_count": 93,
   "id": "1a9f00ae",
   "metadata": {},
   "outputs": [
    {
     "data": {
      "text/plain": [
       "Category\n",
       "ART_AND_DESIGN           345\n",
       "AUTO_AND_VEHICLES        164\n",
       "BEAUTY                   302\n",
       "BOOKS_AND_REFERENCE      314\n",
       "BUSINESS                1298\n",
       "COMICS                    10\n",
       "COMMUNICATION            574\n",
       "DATING                  2807\n",
       "EDUCATION                566\n",
       "ENTERTAINMENT           1226\n",
       "EVENTS                   118\n",
       "FAMILY                  4085\n",
       "FINANCE                 1177\n",
       "FOOD_AND_DRINK           500\n",
       "GAME                   14920\n",
       "HEALTH_AND_FITNESS      2620\n",
       "HOUSE_AND_HOME           527\n",
       "LIBRARIES_AND_DEMO       333\n",
       "LIFESTYLE               1275\n",
       "MAPS_AND_NAVIGATION      156\n",
       "MEDICAL                 1617\n",
       "NEWS_AND_MAGAZINES      1430\n",
       "PARENTING                184\n",
       "PERSONALIZATION          767\n",
       "PHOTOGRAPHY              886\n",
       "PRODUCTIVITY             579\n",
       "SHOPPING                1078\n",
       "SOCIAL                   438\n",
       "SPORTS                  1446\n",
       "TOOLS                    849\n",
       "TRAVEL_AND_LOCAL        1369\n",
       "VIDEO_PLAYERS            198\n",
       "WEATHER                  109\n",
       "dtype: int64"
      ]
     },
     "execution_count": 93,
     "metadata": {},
     "output_type": "execute_result"
    }
   ],
   "source": [
    "df10[df10.Type == 'Free'].sort_values(by=['Category']).groupby(\"Category\").size()"
   ]
  },
  {
   "cell_type": "code",
   "execution_count": 94,
   "id": "08e7ea44",
   "metadata": {},
   "outputs": [
    {
     "data": {
      "text/plain": [
       "Category\n",
       "FAMILY             216\n",
       "GAME                42\n",
       "MEDICAL            308\n",
       "PERSONALIZATION    176\n",
       "SPORTS              40\n",
       "dtype: int64"
      ]
     },
     "execution_count": 94,
     "metadata": {},
     "output_type": "execute_result"
    }
   ],
   "source": [
    "df10[df10.Type == 'Paid'].sort_values(by=['Category']).groupby(\"Category\").size()"
   ]
  },
  {
   "cell_type": "markdown",
   "id": "c0e9b560",
   "metadata": {},
   "source": [
    "It will be plot only the categories that have been both paid and free apps (Family, Game, Medical, Personalisation and Sports). The remaining categories will be not plotted since they enclose only apps free."
   ]
  },
  {
   "cell_type": "code",
   "execution_count": 95,
   "id": "821f5804",
   "metadata": {},
   "outputs": [
    {
     "data": {
      "image/png": "[encoded data removed]",
      "text/plain": [
       "<Figure size 720x576 with 1 Axes>"
      ]
     },
     "metadata": {
      "needs_background": "light"
     },
     "output_type": "display_data"
    },
    {
     "data": {
      "text/plain": [
       "<Figure size 432x288 with 0 Axes>"
      ]
     },
     "metadata": {},
     "output_type": "display_data"
    }
   ],
   "source": [
    "# Stacked bars plot of the Plot distribution of count per categories for free and paid apps\n",
    "plt.figure(figsize=(10,8))  #Make figure with the required dimensions\n",
    "\n",
    "name_app = ['Family', 'Game', 'Medical', 'Personalization', 'Sports']\n",
    "free_c = [4085, 14920, 1617, 767, 1446]\n",
    "paid_c = [216, 42, 308, 176, 40]\n",
    "\n",
    "plt.bar(range(5), free_c)\n",
    "plt.bar(range(5), paid_c, bottom=free_c)\n",
    "\n",
    "\n",
    "plt.title('Distribution per categories of apps free and paid')\n",
    "plt.ylabel('Count')\n",
    "ax = plt.subplot()\n",
    "ax.set_xticks(range(5))\n",
    "ax.set_xticklabels(name_app, rotation =90)\n",
    "plt.xlabel('Name Category')\n",
    "\n",
    "legend_labels = ['Free', 'Paid']\n",
    "plt.legend(legend_labels, loc=1)\n",
    "\n",
    "plt.savefig('Fig13.png')  #Save the plot in png format \n",
    "plt.show()\n",
    "plt.clf()"
   ]
  },
  {
   "cell_type": "markdown",
   "id": "f2c8cc03",
   "metadata": {},
   "source": [
    "- _Visualisation of the most popular genres apps on free and paid variable_"
   ]
  },
  {
   "cell_type": "code",
   "execution_count": 96,
   "id": "39553b74",
   "metadata": {},
   "outputs": [
    {
     "data": {
      "text/plain": [
       "Genres\n",
       "Action                     4695\n",
       "Action & Adventure         1211\n",
       "Adventure                     1\n",
       "Arcade                     2253\n",
       "Art & Design                263\n",
       "Auto & Vehicles             164\n",
       "Beauty                      302\n",
       "Board                       200\n",
       "Books & Reference           314\n",
       "Brain Games                 550\n",
       "Business                   1298\n",
       "Casual                     3663\n",
       "Comics                       10\n",
       "Communication               574\n",
       "Creativity                  295\n",
       "Dating                     2807\n",
       "Education                   977\n",
       "Entertainment              1528\n",
       "Events                      118\n",
       "Finance                    1177\n",
       "Food & Drink                500\n",
       "Health & Fitness           2620\n",
       "House & Home                527\n",
       "Libraries & Demo            333\n",
       "Lifestyle                  1275\n",
       "Maps & Navigation           156\n",
       "Medical                    1617\n",
       "Music & Video                75\n",
       "News & Magazines           1430\n",
       "Parenting                    72\n",
       "Personalization             767\n",
       "Photography                 886\n",
       "Pretend Play                624\n",
       "Productivity                579\n",
       "Puzzle                     2090\n",
       "Racing                      251\n",
       "Role Playing                201\n",
       "Shopping                   1078\n",
       "Simulation                  207\n",
       "Social                      438\n",
       "Sports                     2766\n",
       "Strategy                    868\n",
       "Tools                       849\n",
       "Travel & Local             1351\n",
       "Video Players & Editors     198\n",
       "Weather                     109\n",
       "dtype: int64"
      ]
     },
     "execution_count": 96,
     "metadata": {},
     "output_type": "execute_result"
    }
   ],
   "source": [
    "df10[df10.Type == 'Free'].sort_values(by=['Genres']).groupby(\"Genres\").size()"
   ]
  },
  {
   "cell_type": "code",
   "execution_count": 97,
   "id": "627d10d3",
   "metadata": {},
   "outputs": [
    {
     "data": {
      "text/plain": [
       "Genres\n",
       "Action               3\n",
       "Education           39\n",
       "Medical            308\n",
       "Personalization    176\n",
       "Pretend Play       216\n",
       "Sports              40\n",
       "dtype: int64"
      ]
     },
     "execution_count": 97,
     "metadata": {},
     "output_type": "execute_result"
    }
   ],
   "source": [
    "df10[df10.Type == 'Paid'].sort_values(by=['Genres']).groupby(\"Genres\").size()"
   ]
  },
  {
   "cell_type": "markdown",
   "id": "5fa39965",
   "metadata": {},
   "source": [
    "It will be plot only the Genres that have been both paid and free apps (Action, Education, Medical, Personalization, Pretend Play, Sports. The remaining genres will be not plotted since they enclose only apps free."
   ]
  },
  {
   "cell_type": "code",
   "execution_count": 98,
   "id": "a9276583",
   "metadata": {},
   "outputs": [
    {
     "data": {
      "image/png": "[encoded data removed]",
      "text/plain": [
       "<Figure size 720x576 with 1 Axes>"
      ]
     },
     "metadata": {
      "needs_background": "light"
     },
     "output_type": "display_data"
    },
    {
     "data": {
      "text/plain": [
       "<Figure size 432x288 with 0 Axes>"
      ]
     },
     "metadata": {},
     "output_type": "display_data"
    }
   ],
   "source": [
    "# Stacked bars plot of Plot distribution of count per genres for free and paid apps\n",
    "plt.figure(figsize=(10,8))  #Make figure with the required dimensions\n",
    "\n",
    "name_genres = ['Action', 'Education', 'Medical', 'Personalization', 'Pretend Play', 'Sports']\n",
    "free_g = [4695, 977, 1617, 767, 624, 2766]\n",
    "paid_g = [3, 39, 308, 176, 216, 40]\n",
    "\n",
    "plt.bar(range(6), free_g)\n",
    "plt.bar(range(6), paid_g, bottom=free_g)\n",
    "\n",
    "plt.title('Distribution per genres of apps free and paid')\n",
    "plt.ylabel('Count')\n",
    "ax = plt.subplot()\n",
    "ax.set_xticks(range(6))\n",
    "ax.set_xticklabels(name_genres, rotation =90)\n",
    "plt.xlabel('Name Genres')\n",
    "\n",
    "legend_labels = ['Free', 'Paid']\n",
    "plt.legend(legend_labels, loc=1)\n",
    "\n",
    "plt.savefig('Fig14.png')  #Save the plot in png format \n",
    "plt.show()\n",
    "plt.clf()\n"
   ]
  },
  {
   "cell_type": "markdown",
   "id": "a9e8d7f6",
   "metadata": {},
   "source": [
    "- Visualisation of the most popular category on Rating"
   ]
  },
  {
   "cell_type": "code",
   "execution_count": 99,
   "id": "349d1175",
   "metadata": {},
   "outputs": [
    {
     "data": {
      "text/plain": [
       "Category\n",
       "DATING                166\n",
       "ENTERTAINMENT          23\n",
       "GAME                   41\n",
       "HOUSE_AND_HOME         76\n",
       "LIBRARIES_AND_DEMO     39\n",
       "LIFESTYLE              39\n",
       "MEDICAL               230\n",
       "TRAVEL_AND_LOCAL        3\n",
       "dtype: int64"
      ]
     },
     "execution_count": 99,
     "metadata": {},
     "output_type": "execute_result"
    }
   ],
   "source": [
    "df10[df10.rating_new == '3.0'].sort_values(by=['Category']).groupby(\"Category\").size()"
   ]
  },
  {
   "cell_type": "code",
   "execution_count": 100,
   "id": "1ab78e76",
   "metadata": {},
   "outputs": [
    {
     "data": {
      "text/plain": [
       "Category\n",
       "ART_AND_DESIGN           269\n",
       "AUTO_AND_VEHICLES         71\n",
       "BEAUTY                   221\n",
       "BOOKS_AND_REFERENCE      275\n",
       "BUSINESS                1135\n",
       "COMMUNICATION            570\n",
       "DATING                  2626\n",
       "EDUCATION                558\n",
       "ENTERTAINMENT           1203\n",
       "EVENTS                   118\n",
       "FAMILY                  3453\n",
       "FINANCE                  938\n",
       "FOOD_AND_DRINK           423\n",
       "GAME                   12037\n",
       "HEALTH_AND_FITNESS      1879\n",
       "HOUSE_AND_HOME           418\n",
       "LIBRARIES_AND_DEMO       214\n",
       "LIFESTYLE               1003\n",
       "MAPS_AND_NAVIGATION      120\n",
       "MEDICAL                 1028\n",
       "NEWS_AND_MAGAZINES      1366\n",
       "PARENTING                181\n",
       "PERSONALIZATION          783\n",
       "PHOTOGRAPHY              746\n",
       "PRODUCTIVITY             514\n",
       "SHOPPING                 946\n",
       "SOCIAL                   338\n",
       "SPORTS                  1358\n",
       "TOOLS                    766\n",
       "TRAVEL_AND_LOCAL        1292\n",
       "VIDEO_PLAYERS            140\n",
       "WEATHER                  109\n",
       "dtype: int64"
      ]
     },
     "execution_count": 100,
     "metadata": {},
     "output_type": "execute_result"
    }
   ],
   "source": [
    "df10[df10.rating_new == '4.0'].sort_values(by=['Category']).groupby(\"Category\").size()"
   ]
  },
  {
   "cell_type": "code",
   "execution_count": 101,
   "id": "193567e7",
   "metadata": {},
   "outputs": [
    {
     "data": {
      "text/plain": [
       "Category\n",
       "ART_AND_DESIGN           76\n",
       "AUTO_AND_VEHICLES        93\n",
       "BEAUTY                   81\n",
       "BOOKS_AND_REFERENCE      39\n",
       "BUSINESS                163\n",
       "COMICS                   10\n",
       "COMMUNICATION             4\n",
       "DATING                   15\n",
       "EDUCATION                 8\n",
       "FAMILY                  848\n",
       "FINANCE                 239\n",
       "FOOD_AND_DRINK           77\n",
       "GAME                   2884\n",
       "HEALTH_AND_FITNESS      741\n",
       "HOUSE_AND_HOME           33\n",
       "LIBRARIES_AND_DEMO       80\n",
       "LIFESTYLE               233\n",
       "MAPS_AND_NAVIGATION      36\n",
       "MEDICAL                 667\n",
       "NEWS_AND_MAGAZINES       64\n",
       "PARENTING                 3\n",
       "PERSONALIZATION         160\n",
       "PHOTOGRAPHY             140\n",
       "PRODUCTIVITY             65\n",
       "SHOPPING                132\n",
       "SOCIAL                  100\n",
       "SPORTS                  128\n",
       "TOOLS                    83\n",
       "TRAVEL_AND_LOCAL         74\n",
       "VIDEO_PLAYERS            58\n",
       "dtype: int64"
      ]
     },
     "execution_count": 101,
     "metadata": {},
     "output_type": "execute_result"
    }
   ],
   "source": [
    "df10[df10.rating_new == '5.0'].sort_values(by=['Category']).groupby(\"Category\").size()"
   ]
  },
  {
   "cell_type": "markdown",
   "id": "3219e21a",
   "metadata": {},
   "source": [
    "It will be plot only the Categories that have been both rating 3, rating 4, and rating 5 (Dating, Entertainment, Game, House&Home, Libraries&Demo, Lifestyle, Medical and Travel&Local). The remaining Categories will be not plotted since they not enclose rating 3, or rating 4 or rating 5."
   ]
  },
  {
   "cell_type": "code",
   "execution_count": 102,
   "id": "74930f8b",
   "metadata": {},
   "outputs": [
    {
     "data": {
      "image/png": "[encoded data removed]",
      "text/plain": [
       "<Figure size 720x576 with 1 Axes>"
      ]
     },
     "metadata": {
      "needs_background": "light"
     },
     "output_type": "display_data"
    },
    {
     "data": {
      "text/plain": [
       "<Figure size 432x288 with 0 Axes>"
      ]
     },
     "metadata": {},
     "output_type": "display_data"
    }
   ],
   "source": [
    "# Stacked bars plot of Plot distribution of count per Category Apps for the top three rating\n",
    "plt.figure(figsize=(10,8))  #Make figure with the required dimensions\n",
    "\n",
    "name_category = ['Dating', 'Entertainment', 'Game', 'House&Home', 'Libraries&Demo', 'Lifestyle', 'Medical', 'Travel&Local']\n",
    "\n",
    "rat_3 = [166, 23, 41, 76, 39, 39, 230, 3]\n",
    "rat_4 = [2626, 1203, 12037, 418, 214, 1003, 1028, 1292]\n",
    "rat_5 = [15, 0, 2884, 33, 80, 233, 667, 74]\n",
    "\n",
    "x = range(8)\n",
    "c_bottom = np.add(rat_3, rat_4)\n",
    "\n",
    "#Plot each of the three graphs \n",
    "plt.bar(range(8), rat_3)\n",
    "plt.bar(range(8), rat_4, bottom=rat_3)\n",
    "plt.bar(range(8), rat_5, bottom = c_bottom)\n",
    "\n",
    "#Create the required set of axes\n",
    "ax=plt.subplot()\n",
    "ax.set_xticks(range(8))\n",
    "ax.set_xticklabels(name_category, rotation=45)\n",
    "\n",
    "#Add title, and label to x and y axis \n",
    "plt.title('Plot distribution of count per Category Apps for the top three rating')\n",
    "plt.xlabel('Category')\n",
    "plt.ylabel('Number of Apps')\n",
    "\n",
    "#Add legend \n",
    "legend_labels = ['Rating 3', 'Rating 4', 'Rating 5']\n",
    "plt.legend(legend_labels, loc=1)\n",
    "\n",
    "\n",
    "#Save plot in png format \n",
    "plt.savefig('Fig14.png')\n",
    "\n",
    "plt.show()\n",
    "plt.clf()\n"
   ]
  },
  {
   "cell_type": "markdown",
   "id": "b86efe38",
   "metadata": {},
   "source": [
    "- Visualisation of the most four popular category apps on Sentiment variable"
   ]
  },
  {
   "cell_type": "markdown",
   "id": "623bfd9d",
   "metadata": {},
   "source": [
    "Four categories of apps have the highest percentages compared to the others categories. These are game, family, dating and health&fitness categories apps (33.21%, 9.55%, 6.23% and 5.81%, respectively). Therefore these will be considered in the plot of the distribution of the category per different sentiment."
   ]
  },
  {
   "cell_type": "code",
   "execution_count": 103,
   "id": "1ef33698",
   "metadata": {},
   "outputs": [
    {
     "data": {
      "text/plain": [
       "Category\n",
       "ART_AND_DESIGN          233\n",
       "AUTO_AND_VEHICLES       133\n",
       "BEAUTY                  162\n",
       "BOOKS_AND_REFERENCE     232\n",
       "BUSINESS                824\n",
       "COMICS                    6\n",
       "COMMUNICATION           409\n",
       "DATING                 1780\n",
       "EDUCATION               412\n",
       "ENTERTAINMENT           699\n",
       "EVENTS                   87\n",
       "FAMILY                 2727\n",
       "FINANCE                 754\n",
       "FOOD_AND_DRINK          346\n",
       "GAME                   8639\n",
       "HEALTH_AND_FITNESS     2112\n",
       "HOUSE_AND_HOME          322\n",
       "LIBRARIES_AND_DEMO      238\n",
       "LIFESTYLE               770\n",
       "MAPS_AND_NAVIGATION     106\n",
       "MEDICAL                1322\n",
       "NEWS_AND_MAGAZINES      849\n",
       "PARENTING               124\n",
       "PERSONALIZATION         657\n",
       "PHOTOGRAPHY             561\n",
       "PRODUCTIVITY            372\n",
       "SHOPPING                622\n",
       "SOCIAL                  278\n",
       "SPORTS                  867\n",
       "TOOLS                   541\n",
       "TRAVEL_AND_LOCAL        779\n",
       "VIDEO_PLAYERS           123\n",
       "WEATHER                  83\n",
       "dtype: int64"
      ]
     },
     "execution_count": 103,
     "metadata": {},
     "output_type": "execute_result"
    }
   ],
   "source": [
    "df10[df10.Sentiment == 'Positive'].sort_values(by=['Category']).groupby(\"Category\").size()"
   ]
  },
  {
   "cell_type": "code",
   "execution_count": 104,
   "id": "d3f33002",
   "metadata": {},
   "outputs": [
    {
     "data": {
      "text/plain": [
       "Category\n",
       "ART_AND_DESIGN           58\n",
       "AUTO_AND_VEHICLES        11\n",
       "BEAUTY                   57\n",
       "BOOKS_AND_REFERENCE      27\n",
       "BUSINESS                213\n",
       "COMMUNICATION            78\n",
       "DATING                  569\n",
       "EDUCATION                63\n",
       "ENTERTAINMENT           260\n",
       "EVENTS                   16\n",
       "FAMILY                 1217\n",
       "FINANCE                 249\n",
       "FOOD_AND_DRINK           72\n",
       "GAME                   5778\n",
       "HEALTH_AND_FITNESS      238\n",
       "HOUSE_AND_HOME          102\n",
       "LIBRARIES_AND_DEMO       51\n",
       "LIFESTYLE               246\n",
       "MAPS_AND_NAVIGATION      25\n",
       "MEDICAL                 323\n",
       "NEWS_AND_MAGAZINES      418\n",
       "PARENTING                19\n",
       "PERSONALIZATION         152\n",
       "PHOTOGRAPHY             174\n",
       "PRODUCTIVITY             93\n",
       "SHOPPING                279\n",
       "SOCIAL                  113\n",
       "SPORTS                  406\n",
       "TOOLS                   117\n",
       "TRAVEL_AND_LOCAL        373\n",
       "VIDEO_PLAYERS            37\n",
       "WEATHER                   9\n",
       "dtype: int64"
      ]
     },
     "execution_count": 104,
     "metadata": {},
     "output_type": "execute_result"
    }
   ],
   "source": [
    "df10[df10.Sentiment == 'Negative'].sort_values(by=['Category']).groupby(\"Category\").size()"
   ]
  },
  {
   "cell_type": "code",
   "execution_count": 105,
   "id": "794379ff",
   "metadata": {},
   "outputs": [
    {
     "data": {
      "text/plain": [
       "Category\n",
       "ART_AND_DESIGN          54\n",
       "AUTO_AND_VEHICLES       20\n",
       "BEAUTY                  83\n",
       "BOOKS_AND_REFERENCE     55\n",
       "BUSINESS               261\n",
       "COMICS                   4\n",
       "COMMUNICATION           87\n",
       "DATING                 458\n",
       "EDUCATION               91\n",
       "ENTERTAINMENT          267\n",
       "EVENTS                  15\n",
       "FAMILY                 357\n",
       "FINANCE                174\n",
       "FOOD_AND_DRINK          82\n",
       "GAME                   545\n",
       "HEALTH_AND_FITNESS     270\n",
       "HOUSE_AND_HOME         103\n",
       "LIBRARIES_AND_DEMO      44\n",
       "LIFESTYLE              259\n",
       "MAPS_AND_NAVIGATION     25\n",
       "MEDICAL                280\n",
       "NEWS_AND_MAGAZINES     163\n",
       "PARENTING               41\n",
       "PERSONALIZATION        134\n",
       "PHOTOGRAPHY            151\n",
       "PRODUCTIVITY           114\n",
       "SHOPPING               177\n",
       "SOCIAL                  47\n",
       "SPORTS                 213\n",
       "TOOLS                  191\n",
       "TRAVEL_AND_LOCAL       217\n",
       "VIDEO_PLAYERS           38\n",
       "WEATHER                 17\n",
       "dtype: int64"
      ]
     },
     "execution_count": 105,
     "metadata": {},
     "output_type": "execute_result"
    }
   ],
   "source": [
    "df10[df10.Sentiment == 'Neutral'].sort_values(by=['Category']).groupby(\"Category\").size()"
   ]
  },
  {
   "cell_type": "code",
   "execution_count": 106,
   "id": "0e77f404",
   "metadata": {},
   "outputs": [
    {
     "data": {
      "image/png": "[encoded data removed]",
      "text/plain": [
       "<Figure size 720x576 with 1 Axes>"
      ]
     },
     "metadata": {
      "needs_background": "light"
     },
     "output_type": "display_data"
    },
    {
     "data": {
      "text/plain": [
       "<Figure size 432x288 with 0 Axes>"
      ]
     },
     "metadata": {},
     "output_type": "display_data"
    }
   ],
   "source": [
    "# Stacked bars plot of Plot distribution of count per the top four Category Apps for Sentiment \n",
    "plt.figure(figsize=(10,8))  #Make figure with the required dimensions\n",
    "\n",
    "name_category = ['Dating', 'Game', 'Family', 'Health&Fitness']\n",
    "\n",
    "sent_positive = [1780, 8639, 2727, 2112]\n",
    "sent_negatief = [569, 5778, 1217, 238]\n",
    "sen_neutral = [458, 545, 357, 270]\n",
    "\n",
    "x = range(4)\n",
    "c_bottom = np.add(sent_positive, sent_negatief)\n",
    "\n",
    "\n",
    "#Plot each of the three graphs \n",
    "plt.bar(range(4), sent_positive)\n",
    "plt.bar(range(4), sent_negatief, bottom=sent_positive)\n",
    "plt.bar(range(4), sen_neutral, bottom = c_bottom)\n",
    "\n",
    "#Create the required set of axes\n",
    "ax=plt.subplot()\n",
    "ax.set_xticks(range(4))\n",
    "ax.set_xticklabels(name_category, rotation=45)\n",
    "\n",
    "#Add title, and label to x and y axis \n",
    "plt.title('Plot distribution of count per the top four Category Apps for Sentiment')\n",
    "plt.xlabel('Category')\n",
    "plt.ylabel('Number of Apps')\n",
    "\n",
    "#Add legend \n",
    "legend_labels = ['Positive', 'Negative', 'Neutral']\n",
    "plt.legend(legend_labels, loc=1)\n",
    "\n",
    "\n",
    "#Save plot in png format \n",
    "plt.savefig('Fig15.png')\n",
    "\n",
    "plt.show()\n",
    "plt.clf()\n"
   ]
  },
  {
   "cell_type": "markdown",
   "id": "11832dc6",
   "metadata": {},
   "source": [
    "- Visualisation of the most popular five Genres apps on Sentiment variable"
   ]
  },
  {
   "cell_type": "markdown",
   "id": "5728d97c",
   "metadata": {},
   "source": [
    "Five genres of apps have the highest percentages compared to the others categories. These are Action, Casual, Dating, Sports and Health&Fitness apps (10.43%, 8.13%, 6.23%, 6.22%, and 5.81%, respectively).Therefore these will be considered in the plot of the distribution of the genres per different sentiment."
   ]
  },
  {
   "cell_type": "code",
   "execution_count": 107,
   "id": "d570eb94",
   "metadata": {},
   "outputs": [
    {
     "data": {
      "text/plain": [
       "Genres\n",
       "Action                     3198\n",
       "Action & Adventure          850\n",
       "Arcade                     1075\n",
       "Art & Design                178\n",
       "Auto & Vehicles             133\n",
       "Beauty                      162\n",
       "Board                       160\n",
       "Books & Reference           232\n",
       "Brain Games                 378\n",
       "Business                    824\n",
       "Casual                     1756\n",
       "Comics                        6\n",
       "Communication               409\n",
       "Creativity                  183\n",
       "Dating                     1780\n",
       "Education                   727\n",
       "Entertainment               879\n",
       "Events                       87\n",
       "Finance                     754\n",
       "Food & Drink                346\n",
       "Health & Fitness           2112\n",
       "House & Home                322\n",
       "Libraries & Demo            238\n",
       "Lifestyle                   770\n",
       "Maps & Navigation           106\n",
       "Medical                    1322\n",
       "Music & Video                53\n",
       "News & Magazines            849\n",
       "Parenting                    52\n",
       "Personalization             657\n",
       "Photography                 561\n",
       "Pretend Play                522\n",
       "Productivity                372\n",
       "Puzzle                     1200\n",
       "Racing                      164\n",
       "Role Playing                142\n",
       "Shopping                    622\n",
       "Simulation                  143\n",
       "Social                      278\n",
       "Sports                     1495\n",
       "Strategy                    556\n",
       "Tools                       541\n",
       "Travel & Local              769\n",
       "Video Players & Editors     123\n",
       "Weather                      83\n",
       "dtype: int64"
      ]
     },
     "execution_count": 107,
     "metadata": {},
     "output_type": "execute_result"
    }
   ],
   "source": [
    "df10[df10.Sentiment == 'Positive'].sort_values(by=['Genres']).groupby(\"Genres\").size()"
   ]
  },
  {
   "cell_type": "code",
   "execution_count": 108,
   "id": "9e16f22b",
   "metadata": {},
   "outputs": [
    {
     "data": {
      "text/plain": [
       "Genres\n",
       "Action                     1371\n",
       "Action & Adventure          301\n",
       "Adventure                     1\n",
       "Arcade                     1153\n",
       "Art & Design                 36\n",
       "Auto & Vehicles              11\n",
       "Beauty                       57\n",
       "Board                        26\n",
       "Books & Reference            27\n",
       "Brain Games                 116\n",
       "Business                    213\n",
       "Casual                     1648\n",
       "Communication                78\n",
       "Creativity                   86\n",
       "Dating                      569\n",
       "Education                   134\n",
       "Entertainment               337\n",
       "Events                       16\n",
       "Finance                     249\n",
       "Food & Drink                 72\n",
       "Health & Fitness            238\n",
       "House & Home                102\n",
       "Libraries & Demo             51\n",
       "Lifestyle                   246\n",
       "Maps & Navigation            25\n",
       "Medical                     323\n",
       "Music & Video                 7\n",
       "News & Magazines            418\n",
       "Parenting                    10\n",
       "Personalization             152\n",
       "Photography                 174\n",
       "Pretend Play                220\n",
       "Productivity                 93\n",
       "Puzzle                      812\n",
       "Racing                       84\n",
       "Role Playing                 56\n",
       "Shopping                    279\n",
       "Simulation                   60\n",
       "Social                      113\n",
       "Sports                     1044\n",
       "Strategy                    303\n",
       "Tools                       117\n",
       "Travel & Local              369\n",
       "Video Players & Editors      37\n",
       "Weather                       9\n",
       "dtype: int64"
      ]
     },
     "execution_count": 108,
     "metadata": {},
     "output_type": "execute_result"
    }
   ],
   "source": [
    "df10[df10.Sentiment == 'Negative'].sort_values(by=['Genres']).groupby(\"Genres\").size()"
   ]
  },
  {
   "cell_type": "code",
   "execution_count": 109,
   "id": "57def60a",
   "metadata": {},
   "outputs": [
    {
     "data": {
      "text/plain": [
       "Genres\n",
       "Action                     129\n",
       "Action & Adventure          60\n",
       "Arcade                      25\n",
       "Art & Design                49\n",
       "Auto & Vehicles             20\n",
       "Beauty                      83\n",
       "Board                       14\n",
       "Books & Reference           55\n",
       "Brain Games                 56\n",
       "Business                   261\n",
       "Casual                     259\n",
       "Comics                       4\n",
       "Communication               87\n",
       "Creativity                  26\n",
       "Dating                     458\n",
       "Education                  155\n",
       "Entertainment              312\n",
       "Events                      15\n",
       "Finance                    174\n",
       "Food & Drink                82\n",
       "Health & Fitness           270\n",
       "House & Home               103\n",
       "Libraries & Demo            44\n",
       "Lifestyle                  259\n",
       "Maps & Navigation           25\n",
       "Medical                    280\n",
       "Music & Video               15\n",
       "News & Magazines           163\n",
       "Parenting                   10\n",
       "Personalization            134\n",
       "Photography                151\n",
       "Pretend Play                98\n",
       "Productivity               114\n",
       "Puzzle                      78\n",
       "Racing                       3\n",
       "Role Playing                 3\n",
       "Shopping                   177\n",
       "Simulation                   4\n",
       "Social                      47\n",
       "Sports                     267\n",
       "Strategy                     9\n",
       "Tools                      191\n",
       "Travel & Local             213\n",
       "Video Players & Editors     38\n",
       "Weather                     17\n",
       "dtype: int64"
      ]
     },
     "execution_count": 109,
     "metadata": {},
     "output_type": "execute_result"
    }
   ],
   "source": [
    "df10[df10.Sentiment == 'Neutral'].sort_values(by=['Genres']).groupby(\"Genres\").size()"
   ]
  },
  {
   "cell_type": "code",
   "execution_count": 110,
   "id": "447c177c",
   "metadata": {},
   "outputs": [
    {
     "data": {
      "image/png": "[encoded data removed]",
      "text/plain": [
       "<Figure size 720x576 with 1 Axes>"
      ]
     },
     "metadata": {
      "needs_background": "light"
     },
     "output_type": "display_data"
    },
    {
     "data": {
      "text/plain": [
       "<Figure size 432x288 with 0 Axes>"
      ]
     },
     "metadata": {},
     "output_type": "display_data"
    }
   ],
   "source": [
    "# Stacked bars plot of Plot distribution of count per the top four Genres Apps for Sentiment \n",
    "plt.figure(figsize=(10,8))  #Make figure with the required dimensions\n",
    "\n",
    "name_genres = ['Action', 'Casual', 'Dating', 'Health&Fitness', 'Sports']\n",
    "sent_positive = [3198, 1756, 1780, 2112, 1495]\n",
    "sent_negatief = [1371, 1648, 569, 238, 1044]\n",
    "sen_neutral = [129, 259, 458, 270, 267]\n",
    "        \n",
    "x = range(5)\n",
    "c_bottom = np.add(sent_positive, sent_negatief)\n",
    "\n",
    "\n",
    "#Plot each of the three graphs \n",
    "plt.bar(range(5), sent_positive)\n",
    "plt.bar(range(5), sent_negatief, bottom=sent_positive)\n",
    "plt.bar(range(5), sen_neutral, bottom = c_bottom)\n",
    "\n",
    "#Create the required set of axes\n",
    "ax=plt.subplot()\n",
    "ax.set_xticks(range(5))\n",
    "ax.set_xticklabels(name_genres, rotation=45)\n",
    "\n",
    "#Add title, and label to x and y axis \n",
    "plt.title('Plot distribution of count per the top four Genres Apps for Sentiment')\n",
    "plt.xlabel('Genres')\n",
    "plt.ylabel('Number of Apps')\n",
    "\n",
    "#Add legend \n",
    "legend_labels = ['Positive', 'Negative', 'Neutral']\n",
    "plt.legend(legend_labels, loc=1)\n",
    "\n",
    "\n",
    "#Save plot in png format \n",
    "plt.savefig('Fig16.png')\n",
    "\n",
    "plt.show()\n",
    "plt.clf()\n"
   ]
  },
  {
   "cell_type": "markdown",
   "id": "78107ef5",
   "metadata": {},
   "source": [
    "- Box plot of the Price app by most four popular categories"
   ]
  },
  {
   "cell_type": "markdown",
   "id": "6bd34a1c",
   "metadata": {},
   "source": [
    "Four categories of apps have the highest percentages compared to the others categories. These are game, family, dating and health&fitness categories apps (33.21%, 9.55%, 6.23% and 5.81%, respectively). Therefore descriptive statistics and box plots of only these four categories will be diplayed. "
   ]
  },
  {
   "cell_type": "code",
   "execution_count": 111,
   "id": "90aba266",
   "metadata": {},
   "outputs": [
    {
     "name": "stdout",
     "output_type": "stream",
     "text": [
      "                                                App  Rating  Reviews  Size  \\\n",
      "Category                                                                     \n",
      "DATING    Hily: Dating, Chat, Match, Meet & Hook up     4.1     2556   56M   \n",
      "DATING    Hily: Dating, Chat, Match, Meet & Hook up     4.1     2556   56M   \n",
      "DATING    Hily: Dating, Chat, Match, Meet & Hook up     4.1     2556   56M   \n",
      "DATING    Hily: Dating, Chat, Match, Meet & Hook up     4.1     2556   56M   \n",
      "DATING    Hily: Dating, Chat, Match, Meet & Hook up     4.1     2556   56M   \n",
      "...                                             ...     ...      ...   ...   \n",
      "DATING          2Date Dating App, Love and matching     4.4    41605  8.1M   \n",
      "DATING          2Date Dating App, Love and matching     4.4    41605  8.1M   \n",
      "DATING          2Date Dating App, Love and matching     4.4    41605  8.1M   \n",
      "DATING          2Date Dating App, Love and matching     4.4    41605  8.1M   \n",
      "DATING                    Free Live Talk-Video Call     4.7      158  4.5M   \n",
      "\n",
      "          Installs  Type  Price  Genres    Last_updated Current_Version  \\\n",
      "Category                                                                  \n",
      "DATING    100,000+  Free    0.0  Dating  August 1, 2018           2.5.2   \n",
      "DATING    100,000+  Free    0.0  Dating  August 1, 2018           2.5.2   \n",
      "DATING    100,000+  Free    0.0  Dating  August 1, 2018           2.5.2   \n",
      "DATING    100,000+  Free    0.0  Dating  August 1, 2018           2.5.2   \n",
      "DATING    100,000+  Free    0.0  Dating  August 1, 2018           2.5.2   \n",
      "...            ...   ...    ...     ...             ...             ...   \n",
      "DATING    500,000+  Free    0.0  Dating   July 26, 2018           4.813   \n",
      "DATING    500,000+  Free    0.0  Dating   July 26, 2018           4.813   \n",
      "DATING    500,000+  Free    0.0  Dating   July 26, 2018           4.813   \n",
      "DATING    500,000+  Free    0.0  Dating   July 26, 2018           4.813   \n",
      "DATING     10,000+  Free    0.0  Dating    July 5, 2018             8.2   \n",
      "\n",
      "         Android_Version                                  Translated_Review  \\\n",
      "Category                                                                      \n",
      "DATING        4.1 and up  Full fake accounts. 2 friends college pretty p...   \n",
      "DATING        4.1 and up  Stupid... If someone likes you.. can't see pay...   \n",
      "DATING        4.1 and up  The okay, filled alot bots, lucky verification...   \n",
      "DATING        4.1 and up  Every messaged sends links cant people want ch...   \n",
      "DATING        4.1 and up                Only matched bot scams people reply   \n",
      "...                  ...                                                ...   \n",
      "DATING      4.0.3 and up                                It's OK easy access   \n",
      "DATING      4.0.3 and up                                         Vosan wong   \n",
      "DATING      4.0.3 and up  Nice!! It many gals, users friendly! Well desi...   \n",
      "DATING      4.0.3 and up                                       This perfect   \n",
      "DATING      4.0.3 and up                                   Don't time spent   \n",
      "\n",
      "         Sentiment  Sentiment_Polarity  Sentiment_Subjectivity rating_new  \n",
      "Category                                                                   \n",
      "DATING    Positive            0.095833                0.758333        4.0  \n",
      "DATING    Negative           -0.800000                1.000000        4.0  \n",
      "DATING    Positive            0.308333                0.683333        4.0  \n",
      "DATING     Neutral            0.000000                0.000000        4.0  \n",
      "DATING     Neutral            0.000000                1.000000        4.0  \n",
      "...            ...                 ...                     ...        ...  \n",
      "DATING    Positive            0.466667                0.666667        4.0  \n",
      "DATING     Neutral            0.000000                0.000000        4.0  \n",
      "DATING    Positive            0.584896                0.708333        4.0  \n",
      "DATING    Positive            1.000000                1.000000        4.0  \n",
      "DATING    Negative           -0.100000                0.100000        5.0  \n",
      "\n",
      "[2807 rows x 16 columns]\n",
      "            Rating        Reviews   Price  Sentiment_Polarity  \\\n",
      "count  2807.000000    2807.000000  2807.0         2807.000000   \n",
      "mean      4.113716   17000.167795     0.0            0.180939   \n",
      "std       0.272486   30935.617938     0.0            0.366158   \n",
      "min       3.300000     158.000000     0.0           -1.000000   \n",
      "25%       4.000000    2067.000000     0.0            0.000000   \n",
      "50%       4.100000    4954.000000     0.0            0.175000   \n",
      "75%       4.400000   12633.000000     0.0            0.424016   \n",
      "max       4.700000  243950.000000     0.0            1.000000   \n",
      "\n",
      "       Sentiment_Subjectivity  \n",
      "count             2807.000000  \n",
      "mean                 0.516046  \n",
      "std                  0.292027  \n",
      "min                  0.000000  \n",
      "25%                  0.334524  \n",
      "50%                  0.550444  \n",
      "75%                  0.717262  \n",
      "max                  1.000000  \n",
      "                       App  Rating   Reviews Size      Installs  Type  Price  \\\n",
      "Category                                                                       \n",
      "GAME      Candy Crush Saga     4.4  22426677  74M  500,000,000+  Free    0.0   \n",
      "GAME      Candy Crush Saga     4.4  22426677  74M  500,000,000+  Free    0.0   \n",
      "GAME      Candy Crush Saga     4.4  22426677  74M  500,000,000+  Free    0.0   \n",
      "GAME      Candy Crush Saga     4.4  22426677  74M  500,000,000+  Free    0.0   \n",
      "GAME      Candy Crush Saga     4.4  22426677  74M  500,000,000+  Free    0.0   \n",
      "...                    ...     ...       ...  ...           ...   ...    ...   \n",
      "GAME          Fruit Ninja®     4.3   5091448  41M  100,000,000+  Free    0.0   \n",
      "GAME          Fruit Ninja®     4.3   5091448  41M  100,000,000+  Free    0.0   \n",
      "GAME          Fruit Ninja®     4.3   5091448  41M  100,000,000+  Free    0.0   \n",
      "GAME          Fruit Ninja®     4.3   5091448  41M  100,000,000+  Free    0.0   \n",
      "GAME          Fruit Ninja®     4.3   5091448  41M  100,000,000+  Free    0.0   \n",
      "\n",
      "          Genres   Last_updated Current_Version Android_Version  \\\n",
      "Category                                                          \n",
      "GAME      Casual   July 5, 2018       1.129.0.2      4.1 and up   \n",
      "GAME      Casual   July 5, 2018       1.129.0.2      4.1 and up   \n",
      "GAME      Casual   July 5, 2018       1.129.0.2      4.1 and up   \n",
      "GAME      Casual   July 5, 2018       1.129.0.2      4.1 and up   \n",
      "GAME      Casual   July 5, 2018       1.129.0.2      4.1 and up   \n",
      "...          ...            ...             ...             ...   \n",
      "GAME      Arcade  July 12, 2018    2.6.7.487220      4.1 and up   \n",
      "GAME      Arcade  July 12, 2018    2.6.7.487220      4.1 and up   \n",
      "GAME      Arcade  July 12, 2018    2.6.7.487220      4.1 and up   \n",
      "GAME      Arcade  July 12, 2018    2.6.7.487220      4.1 and up   \n",
      "GAME      Arcade  July 12, 2018    2.6.7.487220      4.1 and up   \n",
      "\n",
      "                                          Translated_Review Sentiment  \\\n",
      "Category                                                                \n",
      "GAME      If get free lives refill, continue accumulate ...  Positive   \n",
      "GAME      My original rating 01/2015 5 Stars still holdi...  Positive   \n",
      "GAME      This good time passing game. However, I like l...  Positive   \n",
      "GAME      Fun first, spending two weeks level makes want...  Positive   \n",
      "GAME      Please get rid amount pop ups love things holy...  Positive   \n",
      "...                                                     ...       ...   \n",
      "GAME                                                    Fun  Positive   \n",
      "GAME      I denied access media latest update game open....  Positive   \n",
      "GAME      I really appreciate game. But I able access ga...  Negative   \n",
      "GAME      So, I re-download game, daughter loved. Notice...  Positive   \n",
      "GAME      Why game need access photos? Why close I deny ...  Negative   \n",
      "\n",
      "          Sentiment_Polarity  Sentiment_Subjectivity rating_new  \n",
      "Category                                                         \n",
      "GAME                0.374411                0.556987        4.0  \n",
      "GAME                0.250000                0.475000        4.0  \n",
      "GAME                0.200926                0.437963        4.0  \n",
      "GAME                0.183333                0.296825        4.0  \n",
      "GAME                0.319444                0.600000        4.0  \n",
      "...                      ...                     ...        ...  \n",
      "GAME                0.300000                0.200000        4.0  \n",
      "GAME                0.016667                0.550000        4.0  \n",
      "GAME               -0.025000                0.406250        4.0  \n",
      "GAME                0.087798                0.652381        4.0  \n",
      "GAME               -0.100000                0.250000        4.0  \n",
      "\n",
      "[14962 rows x 16 columns]\n",
      "             Rating       Reviews         Price  Sentiment_Polarity  \\\n",
      "count  14962.000000  1.496200e+04  14962.000000        14962.000000   \n",
      "mean       4.422791  6.444689e+06      0.014409            0.058364   \n",
      "std        0.152625  8.112750e+06      0.272945            0.252654   \n",
      "min        3.400000  9.305000e+03      0.000000           -1.000000   \n",
      "25%        4.400000  4.014250e+05      0.000000           -0.087500   \n",
      "50%        4.400000  3.197865e+06      0.000000            0.050000   \n",
      "75%        4.500000  7.614407e+06      0.000000            0.195455   \n",
      "max        4.700000  4.489389e+07      6.990000            1.000000   \n",
      "\n",
      "       Sentiment_Subjectivity  \n",
      "count            14962.000000  \n",
      "mean                 0.500946  \n",
      "std                  0.160034  \n",
      "min                  0.000000  \n",
      "25%                  0.412500  \n",
      "50%                  0.500000  \n",
      "75%                  0.593175  \n",
      "max                  1.000000  \n",
      "                                     App  Rating  Reviews Size     Installs  \\\n",
      "Category                                                                      \n",
      "FAMILY               Coloring book moana     3.9      974  14M     500,000+   \n",
      "FAMILY               Coloring book moana     3.9      974  14M     500,000+   \n",
      "FAMILY               Coloring book moana     3.9      974  14M     500,000+   \n",
      "FAMILY               Coloring book moana     3.9      974  14M     500,000+   \n",
      "FAMILY               Coloring book moana     3.9      974  14M     500,000+   \n",
      "...                                  ...     ...      ...  ...          ...   \n",
      "FAMILY    Avakin Life - 3D virtual world     4.4  1275373  91M  10,000,000+   \n",
      "FAMILY    Avakin Life - 3D virtual world     4.4  1275373  91M  10,000,000+   \n",
      "FAMILY    Avakin Life - 3D virtual world     4.4  1275373  91M  10,000,000+   \n",
      "FAMILY    Avakin Life - 3D virtual world     4.4  1275373  91M  10,000,000+   \n",
      "FAMILY    Avakin Life - 3D virtual world     4.4  1275373  91M  10,000,000+   \n",
      "\n",
      "          Type  Price        Genres      Last_updated Current_Version  \\\n",
      "Category                                                                \n",
      "FAMILY    Free    0.0  Pretend Play  January 15, 2018           2.0.0   \n",
      "FAMILY    Free    0.0  Pretend Play  January 15, 2018           2.0.0   \n",
      "FAMILY    Free    0.0  Pretend Play  January 15, 2018           2.0.0   \n",
      "FAMILY    Free    0.0  Pretend Play  January 15, 2018           2.0.0   \n",
      "FAMILY    Free    0.0  Pretend Play  January 15, 2018           2.0.0   \n",
      "...        ...    ...           ...               ...             ...   \n",
      "FAMILY    Free    0.0  Role Playing      July 3, 2018        1.021.10   \n",
      "FAMILY    Free    0.0  Role Playing      July 3, 2018        1.021.10   \n",
      "FAMILY    Free    0.0  Role Playing      July 3, 2018        1.021.10   \n",
      "FAMILY    Free    0.0  Role Playing      July 3, 2018        1.021.10   \n",
      "FAMILY    Free    0.0  Role Playing      July 3, 2018        1.021.10   \n",
      "\n",
      "         Android_Version                                  Translated_Review  \\\n",
      "Category                                                                      \n",
      "FAMILY      4.0.3 and up  A kid's excessive ads. The types ads allowed a...   \n",
      "FAMILY      4.0.3 and up                                         It bad >:(   \n",
      "FAMILY      4.0.3 and up                                               like   \n",
      "FAMILY      4.0.3 and up                           I love colors inspyering   \n",
      "FAMILY      4.0.3 and up                                             I hate   \n",
      "...                  ...                                                ...   \n",
      "FAMILY        4.1 and up  This turned better I expected tbh I'm glad. I'...   \n",
      "FAMILY        4.1 and up  I like apartments n stuffs minus players Many ...   \n",
      "FAMILY        4.1 and up  Hey I've playing year half last year I took 2 ...   \n",
      "FAMILY        4.1 and up  Annoying loading. It stopped 80 percent, data ...   \n",
      "FAMILY        4.1 and up  Boring graphics great. Although I praise somew...   \n",
      "\n",
      "         Sentiment  Sentiment_Polarity  Sentiment_Subjectivity rating_new  \n",
      "Category                                                                   \n",
      "FAMILY    Negative           -0.250000                1.000000        4.0  \n",
      "FAMILY    Negative           -0.725000                0.833333        4.0  \n",
      "FAMILY     Neutral            0.000000                0.000000        4.0  \n",
      "FAMILY    Positive            0.500000                0.600000        4.0  \n",
      "FAMILY    Negative           -0.800000                0.900000        4.0  \n",
      "...            ...                 ...                     ...        ...  \n",
      "FAMILY    Positive            0.330000                0.707778        4.0  \n",
      "FAMILY    Negative           -0.181997                0.505373        4.0  \n",
      "FAMILY    Positive            0.002721                0.391497        4.0  \n",
      "FAMILY    Negative           -0.275000                0.720000        4.0  \n",
      "FAMILY    Positive            0.060000                0.550000        4.0  \n",
      "\n",
      "[4301 rows x 16 columns]\n",
      "            Rating       Reviews        Price  Sentiment_Polarity  \\\n",
      "count  4301.000000  4.301000e+03  4301.000000         4301.000000   \n",
      "mean      4.342990  3.137294e+06     0.200381            0.132183   \n",
      "std       0.227321  7.587325e+06     0.871519            0.333393   \n",
      "min       3.600000  1.740000e+02     0.000000           -1.000000   \n",
      "25%       4.300000  1.275300e+04     0.000000           -0.040509   \n",
      "50%       4.300000  1.030640e+05     0.000000            0.114815   \n",
      "75%       4.500000  1.275373e+06     0.000000            0.333333   \n",
      "max       4.800000  4.488145e+07     3.990000            1.000000   \n",
      "\n",
      "       Sentiment_Subjectivity  \n",
      "count             4301.000000  \n",
      "mean                 0.512680  \n",
      "std                  0.221717  \n",
      "min                  0.000000  \n",
      "25%                  0.400000  \n",
      "50%                  0.513434  \n",
      "75%                  0.633333  \n",
      "max                  1.000000  \n",
      "                                             App  Rating  Reviews Size  \\\n",
      "Category                                                                 \n",
      "HEALTH_AND_FITNESS                  Home Workout     4.8   428156  15M   \n",
      "HEALTH_AND_FITNESS                  Home Workout     4.8   428156  15M   \n",
      "HEALTH_AND_FITNESS                  Home Workout     4.8   428156  15M   \n",
      "HEALTH_AND_FITNESS                  Home Workout     4.8   428156  15M   \n",
      "HEALTH_AND_FITNESS                  Home Workout     4.8   428156  15M   \n",
      "...                                          ...     ...      ...  ...   \n",
      "HEALTH_AND_FITNESS  Brain Waves - Binaural Beats     4.4     5038  10M   \n",
      "HEALTH_AND_FITNESS  Brain Waves - Binaural Beats     4.4     5038  10M   \n",
      "HEALTH_AND_FITNESS  Brain Waves - Binaural Beats     4.4     5038  10M   \n",
      "HEALTH_AND_FITNESS  Brain Waves - Binaural Beats     4.4     5038  10M   \n",
      "HEALTH_AND_FITNESS  Brain Waves - Binaural Beats     4.4     5038  10M   \n",
      "\n",
      "                       Installs  Type  Price            Genres   Last_updated  \\\n",
      "Category                                                                        \n",
      "HEALTH_AND_FITNESS  10,000,000+  Free    0.0  Health & Fitness  June 28, 2018   \n",
      "HEALTH_AND_FITNESS  10,000,000+  Free    0.0  Health & Fitness  June 28, 2018   \n",
      "HEALTH_AND_FITNESS  10,000,000+  Free    0.0  Health & Fitness  June 28, 2018   \n",
      "HEALTH_AND_FITNESS  10,000,000+  Free    0.0  Health & Fitness  June 28, 2018   \n",
      "HEALTH_AND_FITNESS  10,000,000+  Free    0.0  Health & Fitness  June 28, 2018   \n",
      "...                         ...   ...    ...               ...            ...   \n",
      "HEALTH_AND_FITNESS     500,000+  Free    0.0  Health & Fitness  July 15, 2018   \n",
      "HEALTH_AND_FITNESS     500,000+  Free    0.0  Health & Fitness  July 15, 2018   \n",
      "HEALTH_AND_FITNESS     500,000+  Free    0.0  Health & Fitness  July 15, 2018   \n",
      "HEALTH_AND_FITNESS     500,000+  Free    0.0  Health & Fitness  July 15, 2018   \n",
      "HEALTH_AND_FITNESS     500,000+  Free    0.0  Health & Fitness  July 15, 2018   \n",
      "\n",
      "                       Current_Version     Android_Version  \\\n",
      "Category                                                     \n",
      "HEALTH_AND_FITNESS  Varies with device  Varies with device   \n",
      "HEALTH_AND_FITNESS  Varies with device  Varies with device   \n",
      "HEALTH_AND_FITNESS  Varies with device  Varies with device   \n",
      "HEALTH_AND_FITNESS  Varies with device  Varies with device   \n",
      "HEALTH_AND_FITNESS  Varies with device  Varies with device   \n",
      "...                                ...                 ...   \n",
      "HEALTH_AND_FITNESS                 5.2          4.4 and up   \n",
      "HEALTH_AND_FITNESS                 5.2          4.4 and up   \n",
      "HEALTH_AND_FITNESS                 5.2          4.4 and up   \n",
      "HEALTH_AND_FITNESS                 5.2          4.4 and up   \n",
      "HEALTH_AND_FITNESS                 5.2          4.4 and up   \n",
      "\n",
      "                                                    Translated_Review  \\\n",
      "Category                                                                \n",
      "HEALTH_AND_FITNESS  I'm 39 year old woman I practice pole fitness,...   \n",
      "HEALTH_AND_FITNESS  Many thanks LFG great app. I looking suitable ...   \n",
      "HEALTH_AND_FITNESS  I love it. Even weightlifting brings whole new...   \n",
      "HEALTH_AND_FITNESS  The good itself...the excercises good... howev...   \n",
      "HEALTH_AND_FITNESS  Really enjoyed it. Very easy I feel lot better...   \n",
      "...                                                               ...   \n",
      "HEALTH_AND_FITNESS  pretty good, listening music feels good. But n...   \n",
      "HEALTH_AND_FITNESS  I feel asleep I dreamed I able control dream s...   \n",
      "HEALTH_AND_FITNESS  By far best binaural even program I've ever us...   \n",
      "HEALTH_AND_FITNESS  would great, crash time, annoying trying medit...   \n",
      "HEALTH_AND_FITNESS  I researched different waves brain help practi...   \n",
      "\n",
      "                   Sentiment  Sentiment_Polarity  Sentiment_Subjectivity  \\\n",
      "Category                                                                   \n",
      "HEALTH_AND_FITNESS  Positive            0.298958                0.636458   \n",
      "HEALTH_AND_FITNESS  Positive            0.373810                0.480754   \n",
      "HEALTH_AND_FITNESS  Positive            0.318636                0.433788   \n",
      "HEALTH_AND_FITNESS  Positive            0.308333                0.675000   \n",
      "HEALTH_AND_FITNESS  Positive            0.523333                0.664286   \n",
      "...                      ...                 ...                     ...   \n",
      "HEALTH_AND_FITNESS  Positive            0.550000                0.733333   \n",
      "HEALTH_AND_FITNESS  Positive            0.550000                0.762500   \n",
      "HEALTH_AND_FITNESS  Positive            0.195833                0.551587   \n",
      "HEALTH_AND_FITNESS   Neutral            0.000000                0.825000   \n",
      "HEALTH_AND_FITNESS  Positive            0.113673                0.442088   \n",
      "\n",
      "                   rating_new  \n",
      "Category                       \n",
      "HEALTH_AND_FITNESS        5.0  \n",
      "HEALTH_AND_FITNESS        5.0  \n",
      "HEALTH_AND_FITNESS        5.0  \n",
      "HEALTH_AND_FITNESS        5.0  \n",
      "HEALTH_AND_FITNESS        5.0  \n",
      "...                       ...  \n",
      "HEALTH_AND_FITNESS        4.0  \n",
      "HEALTH_AND_FITNESS        4.0  \n",
      "HEALTH_AND_FITNESS        4.0  \n",
      "HEALTH_AND_FITNESS        4.0  \n",
      "HEALTH_AND_FITNESS        4.0  \n",
      "\n",
      "[2620 rows x 16 columns]\n",
      "            Rating        Reviews   Price  Sentiment_Polarity  \\\n",
      "count  2620.000000    2620.000000  2620.0         2620.000000   \n",
      "mean      4.335916   40876.488168     0.0            0.315284   \n",
      "std       0.268756   74350.624175     0.0            0.309340   \n",
      "min       3.700000     706.000000     0.0           -1.000000   \n",
      "25%       4.000000    3061.000000     0.0            0.102431   \n",
      "50%       4.400000    9116.000000     0.0            0.316667   \n",
      "75%       4.600000   27439.000000     0.0            0.500000   \n",
      "max       4.900000  432160.000000     0.0            1.000000   \n",
      "\n",
      "       Sentiment_Subjectivity  \n",
      "count             2620.000000  \n",
      "mean                 0.520306  \n",
      "std                  0.249079  \n",
      "min                  0.000000  \n",
      "25%                  0.398148  \n",
      "50%                  0.552850  \n",
      "75%                  0.675000  \n",
      "max                  1.000000  \n"
     ]
    }
   ],
   "source": [
    "#Descriptive statistics per the top different categories \n",
    "# Values of Price, Sentiment Polarity and Sentiment Subjectivity per different categories of apps\n",
    "\n",
    "df10.set_index('Category', inplace=True)\n",
    "#DATING\n",
    "print(df10.loc[['DATING']]) \n",
    "print(df10.loc[['DATING']].describe()) # Descriptive statistics per Dating category \n",
    "#GAME\n",
    "print(df10.loc[['GAME']]) \n",
    "print(df10.loc[['GAME']].describe()) # Descriptive statistics per Game category \n",
    "#FAMILY\n",
    "#GAME\n",
    "print(df10.loc[['FAMILY']]) \n",
    "print(df10.loc[['FAMILY']].describe()) # Descriptive statistics per Family category \n",
    "#HEALTH_AND_FITNESS\n",
    "print(df10.loc[['HEALTH_AND_FITNESS']]) \n",
    "print(df10.loc[['HEALTH_AND_FITNESS']].describe()) # Descriptive statistics per HEALTH_AND_FITNESS category "
   ]
  },
  {
   "cell_type": "code",
   "execution_count": 112,
   "id": "4b67b417",
   "metadata": {},
   "outputs": [
    {
     "data": {
      "image/png": "[encoded data removed]",
      "text/plain": [
       "<Figure size 720x936 with 4 Axes>"
      ]
     },
     "metadata": {
      "needs_background": "light"
     },
     "output_type": "display_data"
    },
    {
     "data": {
      "text/plain": [
       "<Figure size 432x288 with 0 Axes>"
      ]
     },
     "metadata": {},
     "output_type": "display_data"
    }
   ],
   "source": [
    "# Box plot of the Price  by most four popular  categories apps\n",
    "plt.figure(figsize=(10,13)) \n",
    "# Objective : plt.subplot(2,2,4) #Creation of a figure with four subplots, split into 2 rows and 2 columns \n",
    "#1st subplot_ #DATING\n",
    "plt.subplot(2,2,1)\n",
    "sns.boxplot(x='Price', data=df10.loc[['DATING']])\n",
    "plt.axis([0.000000, 29.990000, -1, 1]) \n",
    "plt.xlabel('cost app($)')\n",
    "plt.title('Dating category')\n",
    "\n",
    "#2nd subplot #GAME\n",
    "plt.subplot(2,2,2)\n",
    "sns.boxplot(x='Price', data=df10.loc[['GAME']])\n",
    "plt.axis([0.000000, 29.990000, -1, 1]) \n",
    "plt.xlabel('cost app($)')\n",
    "plt.title('Game category')\n",
    "            \n",
    "#3th subplot _FAMILY\n",
    "plt.subplot(2,2,3)\n",
    "sns.boxplot(x='Price', data=df10.loc[['FAMILY']])\n",
    "plt.axis([0.000000, 29.990000, -1, 1]) \n",
    "plt.xlabel('cost app($)')\n",
    "plt.title('Family category')\n",
    "            \n",
    "            \n",
    "#4th subplot_HEALTH&FITNESS\n",
    "plt.subplot(2,2,4)\n",
    "sns.boxplot(x='Price', data=df10.loc[['HEALTH_AND_FITNESS']])\n",
    "plt.axis([0.000000, 29.990000, -1, 1]) \n",
    "plt.xlabel('cost app($)')\n",
    "plt.title('Health&Fitness category')\n",
    "plt.savefig('Fig17.png')\n",
    "plt.show()\n",
    "plt.clf()\n"
   ]
  },
  {
   "cell_type": "markdown",
   "id": "51a7abf2",
   "metadata": {},
   "source": [
    "**Explanation plots** The plots confirm that the majority of the apps (inclused also the most four popular categories) are free and not paid. "
   ]
  },
  {
   "cell_type": "markdown",
   "id": "350b343c",
   "metadata": {},
   "source": [
    "- Box plot of the Sentiment Polarity by most four popular categories"
   ]
  },
  {
   "cell_type": "code",
   "execution_count": 113,
   "id": "f0a00a1b",
   "metadata": {},
   "outputs": [
    {
     "data": {
      "image/png": "[encoded data removed]",
      "text/plain": [
       "<Figure size 720x936 with 4 Axes>"
      ]
     },
     "metadata": {
      "needs_background": "light"
     },
     "output_type": "display_data"
    },
    {
     "data": {
      "text/plain": [
       "<Figure size 432x288 with 0 Axes>"
      ]
     },
     "metadata": {},
     "output_type": "display_data"
    }
   ],
   "source": [
    "# Box plot of the Sentiment Polarity by most four popular  categories apps\n",
    "plt.figure(figsize=(10,13)) \n",
    "# Objective : plt.subplot(2,2,4) #Creation of a figure with four subplots, split into 2 rows and 2 columns \n",
    "#1st subplot_ #DATING\n",
    "plt.subplot(2,2,1)\n",
    "sns.boxplot(x='Sentiment_Polarity', data=df10.loc[['DATING']])\n",
    "plt.axis([-1, 1, -1, 1]) \n",
    "plt.xlabel('Unit')\n",
    "plt.title('Dating category')\n",
    "\n",
    "#2nd subplot #GAME\n",
    "plt.subplot(2,2,2)\n",
    "sns.boxplot(x='Sentiment_Polarity', data=df10.loc[['GAME']])\n",
    "plt.axis([-1, 1, -1, 1]) \n",
    "plt.xlabel('Unit')\n",
    "plt.title('Game category')\n",
    "            \n",
    "#3th subplot _FAMILY\n",
    "plt.subplot(2,2,3)\n",
    "sns.boxplot(x='Sentiment_Polarity', data=df10.loc[['FAMILY']])\n",
    "plt.axis([-1, 1, -1, 1]) \n",
    "plt.xlabel('Unit')\n",
    "plt.title('Family category')\n",
    "            \n",
    "            \n",
    "#4th subplot_HEALTH&FITNESS\n",
    "plt.subplot(2,2,4)\n",
    "sns.boxplot(x='Sentiment_Polarity', data=df10.loc[['HEALTH_AND_FITNESS']])\n",
    "plt.axis([-1, 1, -1, 1]) \n",
    "plt.xlabel('Unit')\n",
    "plt.title('Health&Fitness category')\n",
    "plt.savefig('Fig18.png')\n",
    "plt.show()\n",
    "plt.clf()\n"
   ]
  },
  {
   "cell_type": "markdown",
   "id": "fe60dd5d",
   "metadata": {},
   "source": [
    "- Box plot of the Sentiment Subjectivity by most four popular categories "
   ]
  },
  {
   "cell_type": "code",
   "execution_count": 114,
   "id": "5aba76b7",
   "metadata": {},
   "outputs": [
    {
     "data": {
      "image/png": "[encoded data removed]",
      "text/plain": [
       "<Figure size 720x936 with 4 Axes>"
      ]
     },
     "metadata": {
      "needs_background": "light"
     },
     "output_type": "display_data"
    },
    {
     "data": {
      "text/plain": [
       "<Figure size 432x288 with 0 Axes>"
      ]
     },
     "metadata": {},
     "output_type": "display_data"
    }
   ],
   "source": [
    "# Box plot of the Sentiment_Subjectivity by most four popular  categories apps\n",
    "plt.figure(figsize=(10,13)) \n",
    "# Objective : plt.subplot(2,2,4) #Creation of a figure with four subplots, split into 2 rows and 2 columns \n",
    "#1st subplot_ #DATING\n",
    "plt.subplot(2,2,1)\n",
    "sns.boxplot(x='Sentiment_Subjectivity', data=df10.loc[['DATING']])\n",
    "plt.axis([0, 1, -1, 1]) \n",
    "plt.xlabel('Unit')\n",
    "plt.title('Dating category')\n",
    "\n",
    "#2nd subplot #GAME\n",
    "plt.subplot(2,2,2)\n",
    "sns.boxplot(x='Sentiment_Subjectivity', data=df10.loc[['GAME']])\n",
    "plt.axis([0, 1, -1, 1]) \n",
    "plt.xlabel('Unit')\n",
    "plt.title('Game category')\n",
    "            \n",
    "#3th subplot _FAMILY\n",
    "plt.subplot(2,2,3)\n",
    "sns.boxplot(x='Sentiment_Subjectivity', data=df10.loc[['FAMILY']])\n",
    "plt.axis([0, 1, -1, 1]) \n",
    "plt.xlabel('Unit')\n",
    "plt.title('Family category')\n",
    "            \n",
    "            \n",
    "#4th subplot_HEALTH&FITNESS\n",
    "plt.subplot(2,2,4)\n",
    "sns.boxplot(x='Sentiment_Subjectivity', data=df10.loc[['HEALTH_AND_FITNESS']])\n",
    "plt.axis([0, 1, -1, 1]) \n",
    "plt.xlabel('Unit')\n",
    "plt.title('Health&Fitness category')\n",
    "plt.savefig('Fig19.png')\n",
    "plt.show()\n",
    "plt.clf()"
   ]
  },
  {
   "cell_type": "markdown",
   "id": "74dd51bb",
   "metadata": {},
   "source": [
    "- Inspection `correlation` between Price, Sentiment Polarity and Sentiment Subjectivity. "
   ]
  },
  {
   "cell_type": "code",
   "execution_count": 115,
   "id": "442ee22a",
   "metadata": {},
   "outputs": [
    {
     "name": "stdout",
     "output_type": "stream",
     "text": [
      "0.036345700677116614\n",
      "0.03634570067711661\n",
      "0.03971183511588346\n"
     ]
    }
   ],
   "source": [
    "#Is there a correlation between Price, Sentiment Polarity?\n",
    "print(df10['Price'].corr(df10['Sentiment_Polarity'])) #x.corr(y)\n",
    "print(df10['Sentiment_Polarity'].corr(df10['Price'])) #y.corr(x)\n",
    "print(df10['Price'].corr(df10['Sentiment_Polarity'], method='spearman')) #x.corr(y, method='spearman') "
   ]
  },
  {
   "cell_type": "code",
   "execution_count": 116,
   "id": "d59d1f9b",
   "metadata": {},
   "outputs": [
    {
     "name": "stdout",
     "output_type": "stream",
     "text": [
      "0.008082557132662186\n",
      "0.008082557132662184\n",
      "0.010245864635361037\n"
     ]
    }
   ],
   "source": [
    "#Is there a correlation between Price, Sentiment Subjectivity?\n",
    "print(df10['Price'].corr(df10['Sentiment_Subjectivity'])) #x.corr(y)\n",
    "print(df10['Sentiment_Subjectivity'].corr(df10['Price'])) #y.corr(x)\n",
    "print(df10['Price'].corr(df10['Sentiment_Subjectivity'], method='spearman')) #x.corr(y, method='spearman') "
   ]
  },
  {
   "cell_type": "code",
   "execution_count": 117,
   "id": "3cc2ead8",
   "metadata": {},
   "outputs": [
    {
     "name": "stdout",
     "output_type": "stream",
     "text": [
      "0.23526074974417382\n",
      "0.23526074974417382\n",
      "0.30611426058724345\n"
     ]
    }
   ],
   "source": [
    "#Is there a correlation between Sentiment Polarity, Sentiment Subjectivity?\n",
    "print(df10['Sentiment_Polarity'].corr(df10['Sentiment_Subjectivity'])) #x.corr(y)\n",
    "print(df10['Sentiment_Subjectivity'].corr(df10['Sentiment_Polarity'])) #y.corr(x)\n",
    "print(df10['Sentiment_Polarity'].corr(df10['Sentiment_Subjectivity'], method='spearman')) #x.corr(y, method='spearman') "
   ]
  },
  {
   "cell_type": "markdown",
   "id": "72f56733",
   "metadata": {},
   "source": [
    "After investigation of the possible correlation among the three numerical variables, the results do confirm a correlation between Sentiment Polatity and Sentiment Subjectivity (0.31). Besides, it does not seem that the opinion of the reviewer on the app is related to the price of app. "
   ]
  },
  {
   "cell_type": "markdown",
   "id": "3d3a6003",
   "metadata": {},
   "source": [
    "## License"
   ]
  },
  {
   "cell_type": "markdown",
   "id": "08268a90",
   "metadata": {},
   "source": [
    "The [Google Play Store Apps dataset](https://www.kaggle.com/datasets/lava18/google-play-store-apps?resource=download) is licensed under the [Creative Commons Attribution 3.0 Unported License](http://creativecommons.org/licenses/by/3.0/)."
   ]
  }
 ],
 "metadata": {
  "kernelspec": {
   "display_name": "Python 3 (ipykernel)",
   "language": "python",
   "name": "python3"
  },
  "language_info": {
   "codemirror_mode": {
    "name": "ipython",
    "version": 3
   },
   "file_extension": ".py",
   "mimetype": "text/x-python",
   "name": "python",
   "nbconvert_exporter": "python",
   "pygments_lexer": "ipython3",
   "version": "3.9.12"
  }
 },
 "nbformat": 4,
 "nbformat_minor": 5
}
